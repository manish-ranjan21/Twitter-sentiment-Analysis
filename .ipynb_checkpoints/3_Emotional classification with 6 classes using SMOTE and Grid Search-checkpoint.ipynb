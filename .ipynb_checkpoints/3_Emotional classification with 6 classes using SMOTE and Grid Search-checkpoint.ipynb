{
 "cells": [
  {
   "cell_type": "markdown",
   "id": "69d452ff",
   "metadata": {},
   "source": [
    "# Emotional classification with 6 classes using SMOTE and Grid Search"
   ]
  },
  {
   "cell_type": "code",
   "execution_count": 1,
   "id": "b6086e3a",
   "metadata": {},
   "outputs": [],
   "source": [
    "import numpy as np\n",
    "import pandas as pd \n",
    "import tensorflow as tf\n",
    "import nltk\n",
    "import seaborn as sns\n",
    "import re\n",
    "import matplotlib.pyplot as plt\n",
    "\n",
    "from tensorflow.keras.layers import Embedding, Dense, LSTM, Dropout, Bidirectional\n",
    "from tensorflow.keras.preprocessing.sequence import pad_sequences\n",
    "from tensorflow.keras.models import Sequential\n",
    "from tensorflow.keras.preprocessing.text import one_hot, Tokenizer\n",
    "from tensorflow.keras.callbacks import ModelCheckpoint\n",
    "from nltk.corpus import stopwords\n",
    "from nltk.stem.porter import PorterStemmer\n",
    "from sklearn import preprocessing\n",
    "from sklearn.model_selection import train_test_split\n",
    "from sklearn.metrics import accuracy_score, classification_report, confusion_matrix"
   ]
  },
  {
   "cell_type": "code",
   "execution_count": 3,
   "id": "ae506b13",
   "metadata": {},
   "outputs": [],
   "source": [
    "##train_data = pd.read_csv(\"../input/emotions-dataset-for-nlp/train.txt\", header=None, sep=\";\", names=[\"Comment\",\"Emotion\"], encoding=\"utf-8\")\n",
    "\n",
    "df = pd.read_csv(\"Emotion_final.csv\")"
   ]
  },
  {
   "cell_type": "markdown",
   "id": "a93539e3",
   "metadata": {},
   "source": [
    "##### GloVe file path"
   ]
  },
  {
   "cell_type": "code",
   "execution_count": 4,
   "id": "5daf4ba6",
   "metadata": {},
   "outputs": [
    {
     "data": {
      "text/plain": [
       "'glove.6B.100d.txt'"
      ]
     },
     "execution_count": 4,
     "metadata": {},
     "output_type": "execute_result"
    }
   ],
   "source": [
    "EMBEDDING_FILE= f'glove.6B.100d.txt'  #GloVe file path\n",
    "EMBEDDING_FILE"
   ]
  },
  {
   "cell_type": "markdown",
   "id": "49a49238",
   "metadata": {},
   "source": [
    "##### Head of file"
   ]
  },
  {
   "cell_type": "code",
   "execution_count": 5,
   "id": "8f3a62a6",
   "metadata": {},
   "outputs": [
    {
     "data": {
      "text/html": [
       "<div>\n",
       "<style scoped>\n",
       "    .dataframe tbody tr th:only-of-type {\n",
       "        vertical-align: middle;\n",
       "    }\n",
       "\n",
       "    .dataframe tbody tr th {\n",
       "        vertical-align: top;\n",
       "    }\n",
       "\n",
       "    .dataframe thead th {\n",
       "        text-align: right;\n",
       "    }\n",
       "</style>\n",
       "<table border=\"1\" class=\"dataframe\">\n",
       "  <thead>\n",
       "    <tr style=\"text-align: right;\">\n",
       "      <th></th>\n",
       "      <th>Text</th>\n",
       "      <th>Emotion</th>\n",
       "    </tr>\n",
       "  </thead>\n",
       "  <tbody>\n",
       "    <tr>\n",
       "      <th>0</th>\n",
       "      <td>i didnt feel humiliated</td>\n",
       "      <td>sadness</td>\n",
       "    </tr>\n",
       "    <tr>\n",
       "      <th>1</th>\n",
       "      <td>i can go from feeling so hopeless to so damned...</td>\n",
       "      <td>sadness</td>\n",
       "    </tr>\n",
       "    <tr>\n",
       "      <th>2</th>\n",
       "      <td>im grabbing a minute to post i feel greedy wrong</td>\n",
       "      <td>anger</td>\n",
       "    </tr>\n",
       "    <tr>\n",
       "      <th>3</th>\n",
       "      <td>i am ever feeling nostalgic about the fireplac...</td>\n",
       "      <td>love</td>\n",
       "    </tr>\n",
       "    <tr>\n",
       "      <th>4</th>\n",
       "      <td>i am feeling grouchy</td>\n",
       "      <td>anger</td>\n",
       "    </tr>\n",
       "  </tbody>\n",
       "</table>\n",
       "</div>"
      ],
      "text/plain": [
       "                                                Text  Emotion\n",
       "0                            i didnt feel humiliated  sadness\n",
       "1  i can go from feeling so hopeless to so damned...  sadness\n",
       "2   im grabbing a minute to post i feel greedy wrong    anger\n",
       "3  i am ever feeling nostalgic about the fireplac...     love\n",
       "4                               i am feeling grouchy    anger"
      ]
     },
     "execution_count": 5,
     "metadata": {},
     "output_type": "execute_result"
    }
   ],
   "source": [
    "df.head()"
   ]
  },
  {
   "cell_type": "markdown",
   "id": "978ed210",
   "metadata": {},
   "source": [
    "##### plot of class value counts"
   ]
  },
  {
   "cell_type": "code",
   "execution_count": 6,
   "id": "44645dac",
   "metadata": {
    "scrolled": true
   },
   "outputs": [
    {
     "name": "stderr",
     "output_type": "stream",
     "text": [
      "C:\\Users\\ranja\\anaconda3\\lib\\site-packages\\seaborn\\_decorators.py:36: FutureWarning: Pass the following variable as a keyword arg: x. From version 0.12, the only valid positional argument will be `data`, and passing other arguments without an explicit keyword will result in an error or misinterpretation.\n",
      "  warnings.warn(\n"
     ]
    },
    {
     "data": {
      "image/png": "[encoded data removed]",
      "text/plain": [
       "<Figure size 432x288 with 1 Axes>"
      ]
     },
     "metadata": {
      "needs_background": "light"
     },
     "output_type": "display_data"
    }
   ],
   "source": [
    "sns.countplot(df.Emotion)\n",
    "plt.show()"
   ]
  },
  {
   "cell_type": "markdown",
   "id": "e096e93a",
   "metadata": {},
   "source": [
    "##### class value counts"
   ]
  },
  {
   "cell_type": "code",
   "execution_count": 7,
   "id": "b4f06a53",
   "metadata": {},
   "outputs": [
    {
     "data": {
      "text/plain": [
       "happy       7029\n",
       "sadness     6265\n",
       "anger       2993\n",
       "fear        2652\n",
       "love        1641\n",
       "surprise     879\n",
       "Name: Emotion, dtype: int64"
      ]
     },
     "execution_count": 7,
     "metadata": {},
     "output_type": "execute_result"
    }
   ],
   "source": [
    "df['Emotion'].value_counts()"
   ]
  },
  {
   "cell_type": "code",
   "execution_count": 8,
   "id": "8078bd6e",
   "metadata": {},
   "outputs": [],
   "source": [
    "df=df.dropna() #Drop columns with NA values\n",
    "X=df.drop('Emotion',axis=1) #Input\n",
    "y=df['Emotion'] #Output"
   ]
  },
  {
   "cell_type": "code",
   "execution_count": 9,
   "id": "c8527321",
   "metadata": {},
   "outputs": [],
   "source": [
    "messages=X.copy()\n",
    "messages.reset_index(inplace=True) #Drop NA may cause inconsistency in index"
   ]
  },
  {
   "cell_type": "code",
   "execution_count": 10,
   "id": "01652d05",
   "metadata": {},
   "outputs": [
    {
     "name": "stderr",
     "output_type": "stream",
     "text": [
      "[nltk_data] Downloading package stopwords to\n",
      "[nltk_data]     C:\\Users\\ranja\\AppData\\Roaming\\nltk_data...\n",
      "[nltk_data]   Package stopwords is already up-to-date!\n"
     ]
    }
   ],
   "source": [
    "nltk.download('stopwords')\n",
    "ps = PorterStemmer()\n",
    "corpus = []\n",
    "for i in range(0, len(messages)):\n",
    "    review = re.sub('[^a-zA-Z]', ' ', messages['Text'][i]) #Remove Special Characters\n",
    "    review = review.lower() #Lower case \n",
    "    review = review.split()\n",
    "    review = [ps.stem(word) for word in review if not word in stopwords.words('english')] #Remove stopwords\n",
    "    review = ' '.join(review)\n",
    "    corpus.append(review)"
   ]
  },
  {
   "cell_type": "markdown",
   "id": "a2487e26",
   "metadata": {},
   "source": [
    "##### Sample output after pre-processing"
   ]
  },
  {
   "cell_type": "code",
   "execution_count": 11,
   "id": "2ffa8710",
   "metadata": {
    "scrolled": true
   },
   "outputs": [
    {
     "data": {
      "text/plain": [
       "['didnt feel humili',\n",
       " 'go feel hopeless damn hope around someon care awak',\n",
       " 'im grab minut post feel greedi wrong',\n",
       " 'ever feel nostalg fireplac know still properti',\n",
       " 'feel grouchi',\n",
       " 'ive feel littl burden late wasnt sure',\n",
       " 'ive take milligram time recommend amount ive fallen asleep lot faster also feel like funni',\n",
       " 'feel confus life teenag jade year old man',\n",
       " 'petrona year feel petrona perform well made huge profit',\n",
       " 'feel romant']"
      ]
     },
     "execution_count": 11,
     "metadata": {},
     "output_type": "execute_result"
    }
   ],
   "source": [
    "corpus[:10]"
   ]
  },
  {
   "cell_type": "markdown",
   "id": "d8454a4e",
   "metadata": {},
   "source": [
    "#####  mean and std for the pretrained weights"
   ]
  },
  {
   "cell_type": "code",
   "execution_count": 12,
   "id": "787b35a3",
   "metadata": {},
   "outputs": [
    {
     "name": "stderr",
     "output_type": "stream",
     "text": [
      "C:\\Users\\ranja\\anaconda3\\lib\\site-packages\\IPython\\core\\interactiveshell.py:3357: FutureWarning: arrays to stack must be passed as a \"sequence\" type such as list or tuple. Support for non-sequence iterables such as generators is deprecated as of NumPy 1.16 and will raise an error in the future.\n",
      "  if (await self.run_code(code, result,  async_=asy)):\n"
     ]
    },
    {
     "name": "stdout",
     "output_type": "stream",
     "text": [
      "0.004451992 0.4081574\n"
     ]
    }
   ],
   "source": [
    "#Creating the dictionary with word as key and pretrained-value array as value\n",
    "def get_coefs(word,*arr): return word, np.asarray(arr, dtype='float32')\n",
    "embeddings_index = dict(get_coefs(*o.strip().split()) for o in open(EMBEDDING_FILE, encoding='utf-8'))\n",
    "\n",
    "#Calculate mean and std for the pretrained weights\n",
    "all_embs = np.stack(embeddings_index.values())\n",
    "emb_mean,emb_std = all_embs.mean(), all_embs.std()\n",
    "print(emb_mean,emb_std)"
   ]
  },
  {
   "cell_type": "code",
   "execution_count": 13,
   "id": "725b8e7b",
   "metadata": {},
   "outputs": [],
   "source": [
    "voc_size=10000 # Vocabulary size\n",
    "embed_size=100 #word vector size\n",
    "\n",
    "tokenizer = Tokenizer(num_words=voc_size)\n",
    "tokenizer.fit_on_texts(list(corpus))\n",
    "word_index = tokenizer.word_index #Total words in the corpus\n",
    "nb_words = min(voc_size, len(word_index))\n",
    "\n",
    "#Initialize weight matrix for embedding layer\n",
    "embedding_matrix = np.random.normal(emb_mean, emb_std, (nb_words, embed_size)) \n",
    "\n",
    "for word, i in word_index.items():\n",
    "    if i >= voc_size: continue #Skip the words if vocab size is reached\n",
    "    embedding_vector = embeddings_index.get(word) #Extract the pretrained values from GloVe\n",
    "    if embedding_vector is not None: embedding_matrix[i] = embedding_vector"
   ]
  },
  {
   "cell_type": "markdown",
   "id": "7d863f3f",
   "metadata": {},
   "source": [
    "##### length of embedding matrix"
   ]
  },
  {
   "cell_type": "code",
   "execution_count": 14,
   "id": "7c99660b",
   "metadata": {},
   "outputs": [
    {
     "data": {
      "text/plain": [
       "10000"
      ]
     },
     "execution_count": 14,
     "metadata": {},
     "output_type": "execute_result"
    }
   ],
   "source": [
    "#Contains the pretrained GloVe weights for the words\n",
    "len(embedding_matrix)"
   ]
  },
  {
   "cell_type": "code",
   "execution_count": 15,
   "id": "fa3b615b",
   "metadata": {},
   "outputs": [],
   "source": [
    "#One hot representation for input\n",
    "onehot_repr=[one_hot(words,voc_size)for words in corpus]\n",
    "\n",
    "#Finding max words\n",
    "l = 0\n",
    "for x in corpus:\n",
    "    l = max(l,len(x.split(' ')))\n",
    "\n",
    "#Padding the sequences for input\n",
    "sent_length= l\n",
    "embedded_docs=pad_sequences(onehot_repr,padding='pre',maxlen=sent_length)"
   ]
  },
  {
   "cell_type": "markdown",
   "id": "7f98bdad",
   "metadata": {},
   "source": [
    "##### Output after one hot encodeing and padding"
   ]
  },
  {
   "cell_type": "code",
   "execution_count": 16,
   "id": "e01d4ff7",
   "metadata": {
    "scrolled": true
   },
   "outputs": [
    {
     "name": "stdout",
     "output_type": "stream",
     "text": [
      "[[   0    0    0 ... 8856 5423 6545]\n",
      " [   0    0    0 ... 4619 9640 8700]\n",
      " [   0    0    0 ... 5423 8783 7887]\n",
      " ...\n",
      " [   0    0    0 ... 1521 6477 5587]\n",
      " [   0    0    0 ... 6153 5587 5727]\n",
      " [   0    0    0 ...    0 5587 1353]]\n"
     ]
    }
   ],
   "source": [
    "print(embedded_docs)"
   ]
  },
  {
   "cell_type": "markdown",
   "id": "8bc7494b",
   "metadata": {},
   "source": [
    "##### printing y_final(encodded to integers)"
   ]
  },
  {
   "cell_type": "code",
   "execution_count": 17,
   "id": "b59f5998",
   "metadata": {},
   "outputs": [
    {
     "name": "stdout",
     "output_type": "stream",
     "text": [
      "[4 4 0 ... 1 1 1]\n"
     ]
    }
   ],
   "source": [
    "#Encoding the target outputs to integers\n",
    "label_encoder = preprocessing.LabelEncoder()\n",
    "\n",
    "X_final=np.array(embedded_docs) #input to array\n",
    "y = label_encoder.fit_transform(y)\n",
    "y_final=np.array(y)\n",
    "print(y_final)"
   ]
  },
  {
   "cell_type": "markdown",
   "id": "7a8e2065",
   "metadata": {},
   "source": [
    "##### displaying X_final and y_final shape"
   ]
  },
  {
   "cell_type": "code",
   "execution_count": 18,
   "id": "26c785fb",
   "metadata": {},
   "outputs": [
    {
     "data": {
      "text/plain": [
       "((21459, 35), (21459,))"
      ]
     },
     "execution_count": 18,
     "metadata": {},
     "output_type": "execute_result"
    }
   ],
   "source": [
    "X_final.shape,y_final.shape"
   ]
  },
  {
   "cell_type": "code",
   "execution_count": 19,
   "id": "4930b4ba",
   "metadata": {},
   "outputs": [],
   "source": [
    "#Train-Test split\n",
    "X_train, X_test, y_train, y_test = train_test_split(X_final, y_final, \n",
    "                                                    test_size=0.2, random_state=42) \n",
    "#Train-Validation split\n",
    "X_train, X_val, y_train, y_val = train_test_split(X_train, y_train, \n",
    "                                                  test_size=0.1, random_state=21) "
   ]
  },
  {
   "cell_type": "markdown",
   "id": "1aee07aa",
   "metadata": {},
   "source": [
    "##### shape of y_test"
   ]
  },
  {
   "cell_type": "code",
   "execution_count": 20,
   "id": "653978d1",
   "metadata": {},
   "outputs": [
    {
     "data": {
      "text/plain": [
       "((4292,), (1717,))"
      ]
     },
     "execution_count": 20,
     "metadata": {},
     "output_type": "execute_result"
    }
   ],
   "source": [
    "y_test.shape, y_val.shape"
   ]
  },
  {
   "cell_type": "markdown",
   "id": "8072ace4",
   "metadata": {},
   "source": [
    "##### shape of x_train and y_train"
   ]
  },
  {
   "cell_type": "code",
   "execution_count": 21,
   "id": "afb981f4",
   "metadata": {},
   "outputs": [
    {
     "data": {
      "text/plain": [
       "((15450, 35), (15450,))"
      ]
     },
     "execution_count": 21,
     "metadata": {},
     "output_type": "execute_result"
    }
   ],
   "source": [
    "X_train.shape, y_train.shape"
   ]
  },
  {
   "cell_type": "code",
   "execution_count": 22,
   "id": "3982447d",
   "metadata": {},
   "outputs": [],
   "source": [
    "from imblearn.over_sampling import SMOTE"
   ]
  },
  {
   "cell_type": "code",
   "execution_count": 23,
   "id": "728046ce",
   "metadata": {},
   "outputs": [],
   "source": [
    "#pip install imblearn"
   ]
  },
  {
   "cell_type": "markdown",
   "id": "3c577a20",
   "metadata": {},
   "source": [
    "##### display of y_final data"
   ]
  },
  {
   "cell_type": "code",
   "execution_count": 24,
   "id": "a3be82ae",
   "metadata": {
    "scrolled": true
   },
   "outputs": [
    {
     "data": {
      "text/plain": [
       "array([4, 4, 0, ..., 1, 1, 1])"
      ]
     },
     "execution_count": 24,
     "metadata": {},
     "output_type": "execute_result"
    }
   ],
   "source": [
    "y_final"
   ]
  },
  {
   "cell_type": "markdown",
   "id": "bc2e2ddc",
   "metadata": {},
   "source": [
    "##### display of x_final data"
   ]
  },
  {
   "cell_type": "code",
   "execution_count": 25,
   "id": "4d1601bd",
   "metadata": {},
   "outputs": [
    {
     "data": {
      "text/plain": [
       "array([[   0,    0,    0, ..., 8856, 5423, 6545],\n",
       "       [   0,    0,    0, ..., 4619, 9640, 8700],\n",
       "       [   0,    0,    0, ..., 5423, 8783, 7887],\n",
       "       ...,\n",
       "       [   0,    0,    0, ..., 1521, 6477, 5587],\n",
       "       [   0,    0,    0, ..., 6153, 5587, 5727],\n",
       "       [   0,    0,    0, ...,    0, 5587, 1353]])"
      ]
     },
     "execution_count": 25,
     "metadata": {},
     "output_type": "execute_result"
    }
   ],
   "source": [
    "X_final"
   ]
  },
  {
   "cell_type": "markdown",
   "id": "e13ce242",
   "metadata": {},
   "source": [
    "#### SMOTE"
   ]
  },
  {
   "cell_type": "code",
   "execution_count": 50,
   "id": "4e479699",
   "metadata": {},
   "outputs": [],
   "source": [
    "sm = SMOTE(random_state = 42)\n",
    "\n",
    "x_new, y_new = sm.fit_resample(X_final, y_final)\n"
   ]
  },
  {
   "cell_type": "markdown",
   "id": "060b4659",
   "metadata": {},
   "source": [
    "##### Displaying the shape after fitting SMOTE resampling"
   ]
  },
  {
   "cell_type": "code",
   "execution_count": 51,
   "id": "c239c1b7",
   "metadata": {},
   "outputs": [
    {
     "data": {
      "text/plain": [
       "((42174, 35), (21459, 35), (42174, 1), (21459, 1))"
      ]
     },
     "execution_count": 51,
     "metadata": {},
     "output_type": "execute_result"
    }
   ],
   "source": [
    "x_new.shape, X_final.shape, y_new.shape, y_final.shape"
   ]
  },
  {
   "cell_type": "code",
   "execution_count": 52,
   "id": "956cdc4c",
   "metadata": {},
   "outputs": [],
   "source": [
    "x_new = pd.DataFrame(x_new)\n",
    "X_final = pd.DataFrame(X_final)\n",
    "y_new = pd.DataFrame(y_new)\n",
    "y_final = pd.DataFrame(y_final)"
   ]
  },
  {
   "cell_type": "markdown",
   "id": "26dda9ee",
   "metadata": {},
   "source": [
    "##### display  y_new value counts after SMOTE"
   ]
  },
  {
   "cell_type": "code",
   "execution_count": 53,
   "id": "3a4db881",
   "metadata": {},
   "outputs": [
    {
     "data": {
      "text/plain": [
       "0    7029\n",
       "1    7029\n",
       "2    7029\n",
       "3    7029\n",
       "4    7029\n",
       "5    7029\n",
       "dtype: int64"
      ]
     },
     "execution_count": 53,
     "metadata": {},
     "output_type": "execute_result"
    }
   ],
   "source": [
    "y_new.value_counts()"
   ]
  },
  {
   "cell_type": "markdown",
   "id": "de372543",
   "metadata": {},
   "source": [
    "##### display  y_final value counts before SMOTE"
   ]
  },
  {
   "cell_type": "code",
   "execution_count": 54,
   "id": "5dd7d790",
   "metadata": {},
   "outputs": [
    {
     "data": {
      "text/plain": [
       "2    7029\n",
       "4    6265\n",
       "0    2993\n",
       "1    2652\n",
       "3    1641\n",
       "5     879\n",
       "dtype: int64"
      ]
     },
     "execution_count": 54,
     "metadata": {},
     "output_type": "execute_result"
    }
   ],
   "source": [
    "y_final.value_counts()"
   ]
  },
  {
   "cell_type": "code",
   "execution_count": 55,
   "id": "b91ac3ee",
   "metadata": {},
   "outputs": [],
   "source": [
    "y_new = y_new.to_numpy()"
   ]
  },
  {
   "cell_type": "markdown",
   "id": "13adc9fc",
   "metadata": {},
   "source": [
    "##### display y_new data after coverting into numpy"
   ]
  },
  {
   "cell_type": "code",
   "execution_count": 56,
   "id": "ca50be44",
   "metadata": {
    "scrolled": true
   },
   "outputs": [
    {
     "data": {
      "text/plain": [
       "array([[4],\n",
       "       [4],\n",
       "       [0],\n",
       "       ...,\n",
       "       [5],\n",
       "       [5],\n",
       "       [5]])"
      ]
     },
     "execution_count": 56,
     "metadata": {},
     "output_type": "execute_result"
    }
   ],
   "source": [
    "y_new"
   ]
  },
  {
   "cell_type": "markdown",
   "id": "c4cefdd4",
   "metadata": {},
   "source": [
    "#### display x_new data "
   ]
  },
  {
   "cell_type": "code",
   "execution_count": 57,
   "id": "5d7f6a6e",
   "metadata": {},
   "outputs": [
    {
     "data": {
      "text/html": [
       "<div>\n",
       "<style scoped>\n",
       "    .dataframe tbody tr th:only-of-type {\n",
       "        vertical-align: middle;\n",
       "    }\n",
       "\n",
       "    .dataframe tbody tr th {\n",
       "        vertical-align: top;\n",
       "    }\n",
       "\n",
       "    .dataframe thead th {\n",
       "        text-align: right;\n",
       "    }\n",
       "</style>\n",
       "<table border=\"1\" class=\"dataframe\">\n",
       "  <thead>\n",
       "    <tr style=\"text-align: right;\">\n",
       "      <th></th>\n",
       "      <th>0</th>\n",
       "      <th>1</th>\n",
       "      <th>2</th>\n",
       "      <th>3</th>\n",
       "      <th>4</th>\n",
       "      <th>5</th>\n",
       "      <th>6</th>\n",
       "      <th>7</th>\n",
       "      <th>8</th>\n",
       "      <th>9</th>\n",
       "      <th>...</th>\n",
       "      <th>25</th>\n",
       "      <th>26</th>\n",
       "      <th>27</th>\n",
       "      <th>28</th>\n",
       "      <th>29</th>\n",
       "      <th>30</th>\n",
       "      <th>31</th>\n",
       "      <th>32</th>\n",
       "      <th>33</th>\n",
       "      <th>34</th>\n",
       "    </tr>\n",
       "  </thead>\n",
       "  <tbody>\n",
       "    <tr>\n",
       "      <th>0</th>\n",
       "      <td>0</td>\n",
       "      <td>0</td>\n",
       "      <td>0</td>\n",
       "      <td>0</td>\n",
       "      <td>0</td>\n",
       "      <td>0</td>\n",
       "      <td>0</td>\n",
       "      <td>0</td>\n",
       "      <td>0</td>\n",
       "      <td>0</td>\n",
       "      <td>...</td>\n",
       "      <td>0</td>\n",
       "      <td>0</td>\n",
       "      <td>0</td>\n",
       "      <td>0</td>\n",
       "      <td>0</td>\n",
       "      <td>0</td>\n",
       "      <td>0</td>\n",
       "      <td>8856</td>\n",
       "      <td>5423</td>\n",
       "      <td>6545</td>\n",
       "    </tr>\n",
       "    <tr>\n",
       "      <th>1</th>\n",
       "      <td>0</td>\n",
       "      <td>0</td>\n",
       "      <td>0</td>\n",
       "      <td>0</td>\n",
       "      <td>0</td>\n",
       "      <td>0</td>\n",
       "      <td>0</td>\n",
       "      <td>0</td>\n",
       "      <td>0</td>\n",
       "      <td>0</td>\n",
       "      <td>...</td>\n",
       "      <td>0</td>\n",
       "      <td>4312</td>\n",
       "      <td>5423</td>\n",
       "      <td>775</td>\n",
       "      <td>5723</td>\n",
       "      <td>1002</td>\n",
       "      <td>8990</td>\n",
       "      <td>4619</td>\n",
       "      <td>9640</td>\n",
       "      <td>8700</td>\n",
       "    </tr>\n",
       "    <tr>\n",
       "      <th>2</th>\n",
       "      <td>0</td>\n",
       "      <td>0</td>\n",
       "      <td>0</td>\n",
       "      <td>0</td>\n",
       "      <td>0</td>\n",
       "      <td>0</td>\n",
       "      <td>0</td>\n",
       "      <td>0</td>\n",
       "      <td>0</td>\n",
       "      <td>0</td>\n",
       "      <td>...</td>\n",
       "      <td>0</td>\n",
       "      <td>0</td>\n",
       "      <td>0</td>\n",
       "      <td>4080</td>\n",
       "      <td>551</td>\n",
       "      <td>2582</td>\n",
       "      <td>9229</td>\n",
       "      <td>5423</td>\n",
       "      <td>8783</td>\n",
       "      <td>7887</td>\n",
       "    </tr>\n",
       "    <tr>\n",
       "      <th>3</th>\n",
       "      <td>0</td>\n",
       "      <td>0</td>\n",
       "      <td>0</td>\n",
       "      <td>0</td>\n",
       "      <td>0</td>\n",
       "      <td>0</td>\n",
       "      <td>0</td>\n",
       "      <td>0</td>\n",
       "      <td>0</td>\n",
       "      <td>0</td>\n",
       "      <td>...</td>\n",
       "      <td>0</td>\n",
       "      <td>0</td>\n",
       "      <td>0</td>\n",
       "      <td>303</td>\n",
       "      <td>5423</td>\n",
       "      <td>4683</td>\n",
       "      <td>9549</td>\n",
       "      <td>5140</td>\n",
       "      <td>8274</td>\n",
       "      <td>6351</td>\n",
       "    </tr>\n",
       "    <tr>\n",
       "      <th>4</th>\n",
       "      <td>0</td>\n",
       "      <td>0</td>\n",
       "      <td>0</td>\n",
       "      <td>0</td>\n",
       "      <td>0</td>\n",
       "      <td>0</td>\n",
       "      <td>0</td>\n",
       "      <td>0</td>\n",
       "      <td>0</td>\n",
       "      <td>0</td>\n",
       "      <td>...</td>\n",
       "      <td>0</td>\n",
       "      <td>0</td>\n",
       "      <td>0</td>\n",
       "      <td>0</td>\n",
       "      <td>0</td>\n",
       "      <td>0</td>\n",
       "      <td>0</td>\n",
       "      <td>0</td>\n",
       "      <td>5423</td>\n",
       "      <td>5952</td>\n",
       "    </tr>\n",
       "    <tr>\n",
       "      <th>...</th>\n",
       "      <td>...</td>\n",
       "      <td>...</td>\n",
       "      <td>...</td>\n",
       "      <td>...</td>\n",
       "      <td>...</td>\n",
       "      <td>...</td>\n",
       "      <td>...</td>\n",
       "      <td>...</td>\n",
       "      <td>...</td>\n",
       "      <td>...</td>\n",
       "      <td>...</td>\n",
       "      <td>...</td>\n",
       "      <td>...</td>\n",
       "      <td>...</td>\n",
       "      <td>...</td>\n",
       "      <td>...</td>\n",
       "      <td>...</td>\n",
       "      <td>...</td>\n",
       "      <td>...</td>\n",
       "      <td>...</td>\n",
       "      <td>...</td>\n",
       "    </tr>\n",
       "    <tr>\n",
       "      <th>42169</th>\n",
       "      <td>0</td>\n",
       "      <td>0</td>\n",
       "      <td>0</td>\n",
       "      <td>0</td>\n",
       "      <td>0</td>\n",
       "      <td>0</td>\n",
       "      <td>0</td>\n",
       "      <td>0</td>\n",
       "      <td>0</td>\n",
       "      <td>0</td>\n",
       "      <td>...</td>\n",
       "      <td>5423</td>\n",
       "      <td>4264</td>\n",
       "      <td>5893</td>\n",
       "      <td>5020</td>\n",
       "      <td>9169</td>\n",
       "      <td>6642</td>\n",
       "      <td>1334</td>\n",
       "      <td>1401</td>\n",
       "      <td>4279</td>\n",
       "      <td>6085</td>\n",
       "    </tr>\n",
       "    <tr>\n",
       "      <th>42170</th>\n",
       "      <td>0</td>\n",
       "      <td>0</td>\n",
       "      <td>0</td>\n",
       "      <td>0</td>\n",
       "      <td>0</td>\n",
       "      <td>0</td>\n",
       "      <td>0</td>\n",
       "      <td>0</td>\n",
       "      <td>0</td>\n",
       "      <td>0</td>\n",
       "      <td>...</td>\n",
       "      <td>0</td>\n",
       "      <td>0</td>\n",
       "      <td>0</td>\n",
       "      <td>5489</td>\n",
       "      <td>6003</td>\n",
       "      <td>6349</td>\n",
       "      <td>6748</td>\n",
       "      <td>8800</td>\n",
       "      <td>8805</td>\n",
       "      <td>7970</td>\n",
       "    </tr>\n",
       "    <tr>\n",
       "      <th>42171</th>\n",
       "      <td>0</td>\n",
       "      <td>0</td>\n",
       "      <td>0</td>\n",
       "      <td>0</td>\n",
       "      <td>0</td>\n",
       "      <td>0</td>\n",
       "      <td>0</td>\n",
       "      <td>0</td>\n",
       "      <td>0</td>\n",
       "      <td>0</td>\n",
       "      <td>...</td>\n",
       "      <td>7329</td>\n",
       "      <td>6390</td>\n",
       "      <td>588</td>\n",
       "      <td>5991</td>\n",
       "      <td>1934</td>\n",
       "      <td>8640</td>\n",
       "      <td>7419</td>\n",
       "      <td>5360</td>\n",
       "      <td>380</td>\n",
       "      <td>8692</td>\n",
       "    </tr>\n",
       "    <tr>\n",
       "      <th>42172</th>\n",
       "      <td>0</td>\n",
       "      <td>0</td>\n",
       "      <td>0</td>\n",
       "      <td>0</td>\n",
       "      <td>0</td>\n",
       "      <td>0</td>\n",
       "      <td>0</td>\n",
       "      <td>0</td>\n",
       "      <td>0</td>\n",
       "      <td>0</td>\n",
       "      <td>...</td>\n",
       "      <td>1577</td>\n",
       "      <td>6038</td>\n",
       "      <td>7672</td>\n",
       "      <td>5433</td>\n",
       "      <td>5519</td>\n",
       "      <td>635</td>\n",
       "      <td>8995</td>\n",
       "      <td>4430</td>\n",
       "      <td>2185</td>\n",
       "      <td>3920</td>\n",
       "    </tr>\n",
       "    <tr>\n",
       "      <th>42173</th>\n",
       "      <td>0</td>\n",
       "      <td>0</td>\n",
       "      <td>0</td>\n",
       "      <td>0</td>\n",
       "      <td>0</td>\n",
       "      <td>0</td>\n",
       "      <td>0</td>\n",
       "      <td>0</td>\n",
       "      <td>0</td>\n",
       "      <td>0</td>\n",
       "      <td>...</td>\n",
       "      <td>128</td>\n",
       "      <td>2</td>\n",
       "      <td>8492</td>\n",
       "      <td>7762</td>\n",
       "      <td>4381</td>\n",
       "      <td>2775</td>\n",
       "      <td>3910</td>\n",
       "      <td>5423</td>\n",
       "      <td>3747</td>\n",
       "      <td>4403</td>\n",
       "    </tr>\n",
       "  </tbody>\n",
       "</table>\n",
       "<p>42174 rows × 35 columns</p>\n",
       "</div>"
      ],
      "text/plain": [
       "       0   1   2   3   4   5   6   7   8   9   ...    25    26    27    28  \\\n",
       "0       0   0   0   0   0   0   0   0   0   0  ...     0     0     0     0   \n",
       "1       0   0   0   0   0   0   0   0   0   0  ...     0  4312  5423   775   \n",
       "2       0   0   0   0   0   0   0   0   0   0  ...     0     0     0  4080   \n",
       "3       0   0   0   0   0   0   0   0   0   0  ...     0     0     0   303   \n",
       "4       0   0   0   0   0   0   0   0   0   0  ...     0     0     0     0   \n",
       "...    ..  ..  ..  ..  ..  ..  ..  ..  ..  ..  ...   ...   ...   ...   ...   \n",
       "42169   0   0   0   0   0   0   0   0   0   0  ...  5423  4264  5893  5020   \n",
       "42170   0   0   0   0   0   0   0   0   0   0  ...     0     0     0  5489   \n",
       "42171   0   0   0   0   0   0   0   0   0   0  ...  7329  6390   588  5991   \n",
       "42172   0   0   0   0   0   0   0   0   0   0  ...  1577  6038  7672  5433   \n",
       "42173   0   0   0   0   0   0   0   0   0   0  ...   128     2  8492  7762   \n",
       "\n",
       "         29    30    31    32    33    34  \n",
       "0         0     0     0  8856  5423  6545  \n",
       "1      5723  1002  8990  4619  9640  8700  \n",
       "2       551  2582  9229  5423  8783  7887  \n",
       "3      5423  4683  9549  5140  8274  6351  \n",
       "4         0     0     0     0  5423  5952  \n",
       "...     ...   ...   ...   ...   ...   ...  \n",
       "42169  9169  6642  1334  1401  4279  6085  \n",
       "42170  6003  6349  6748  8800  8805  7970  \n",
       "42171  1934  8640  7419  5360   380  8692  \n",
       "42172  5519   635  8995  4430  2185  3920  \n",
       "42173  4381  2775  3910  5423  3747  4403  \n",
       "\n",
       "[42174 rows x 35 columns]"
      ]
     },
     "execution_count": 57,
     "metadata": {},
     "output_type": "execute_result"
    }
   ],
   "source": [
    "x_new"
   ]
  },
  {
   "cell_type": "code",
   "execution_count": 58,
   "id": "49c7748d",
   "metadata": {},
   "outputs": [],
   "source": [
    "x_new = x_new.to_numpy()"
   ]
  },
  {
   "cell_type": "markdown",
   "id": "afbe2d92",
   "metadata": {},
   "source": [
    "##### display x_new data after coverting into numpy"
   ]
  },
  {
   "cell_type": "code",
   "execution_count": 59,
   "id": "1073c816",
   "metadata": {},
   "outputs": [
    {
     "data": {
      "text/plain": [
       "array([[   0,    0,    0, ..., 8856, 5423, 6545],\n",
       "       [   0,    0,    0, ..., 4619, 9640, 8700],\n",
       "       [   0,    0,    0, ..., 5423, 8783, 7887],\n",
       "       ...,\n",
       "       [   0,    0,    0, ..., 5360,  380, 8692],\n",
       "       [   0,    0,    0, ..., 4430, 2185, 3920],\n",
       "       [   0,    0,    0, ..., 5423, 3747, 4403]])"
      ]
     },
     "execution_count": 59,
     "metadata": {},
     "output_type": "execute_result"
    }
   ],
   "source": [
    "x_new"
   ]
  },
  {
   "cell_type": "markdown",
   "id": "61d029aa",
   "metadata": {},
   "source": [
    "### Hyperparameter tuning"
   ]
  },
  {
   "cell_type": "code",
   "execution_count": 60,
   "id": "ce7de162",
   "metadata": {},
   "outputs": [],
   "source": [
    "# #Hyperparameter tuning\n",
    "# from sklearn.model_selection import GridSearchCV\n",
    "# from keras.wrappers.scikit_learn import KerasClassifier\n",
    "\n",
    "# learning_rate = [0.001, 0.002] # 0.001, 0.005, 0.01\n",
    "# # batch_size = [16, 24] # 16, 24, 32, 64, 128\n",
    "# # dropout = [0.2, 0.3] # usually <= 0.3, [0, 0.1, 0.2, 0.3]\n",
    "# neuron = [64, 128] # [32, 64, 128]\n",
    "# param_grid = dict(learning_rate=learning_rate, neuron=neuron)"
   ]
  },
  {
   "cell_type": "code",
   "execution_count": 61,
   "id": "6171cc3e",
   "metadata": {},
   "outputs": [],
   "source": [
    "import tensorflow as tf\n",
    "from keras.models import Sequential\n",
    "from keras.layers import Embedding, Conv1D, MaxPooling1D, Dense, Dropout, Flatten\n",
    "from keras.metrics import Precision, Recall\n",
    "import tensorflow as tf"
   ]
  },
  {
   "cell_type": "code",
   "execution_count": 62,
   "id": "acd77200",
   "metadata": {},
   "outputs": [],
   "source": [
    "# def create_model(learning_rate=learning_rate, dropout=0.3, neuron=neuron):\n",
    "#     # next we can build the model exactly like we would normally do it\n",
    "#     model=Sequential()\n",
    "#     #model.add(Embedding(voc_size, embed_size, weights=[embedding_matrix]))\n",
    "    \n",
    "#     model.add(Embedding(input_dim=voc_size, output_dim =100 ,input_length=35))\n",
    "#     model.add(Conv1D(filters=128, kernel_size=3, activation='relu'))\n",
    "#     model.add(MaxPooling1D(pool_size=2))\n",
    "#     model.add(Dropout(dropout))\n",
    "\n",
    "#     model.add(Conv1D(filters=64, kernel_size=3, activation='relu'))\n",
    "#     model.add(MaxPooling1D(pool_size=2))\n",
    "#     model.add(Dropout(dropout))\n",
    "\n",
    "# # model.add(Conv1D(filters=128, kernel_size=5, activation='relu'))\n",
    "# # model.add(MaxPooling1D(pool_size=5))\n",
    "# # #model.add(Dropout(0.4))\n",
    "\n",
    "#     model.add(Flatten())\n",
    "#     model.add(Dense(128, activation='relu'))\n",
    "#     model.add(Dropout(dropout))\n",
    "# #     model.add(Dense(100, activation='relu'))\n",
    "# #     model.add(Dropout(0.5))\n",
    "#     model.add(Dense(6, activation='softmax'))\n",
    "    \n",
    "#     model.compile(loss='sparse_categorical_crossentropy',\n",
    "#                   optimizer= tf.keras.optimizers.Adam(learning_rate=learning_rate),\n",
    "#                   metrics=['accuracy'])\n",
    "#     # model.summary()\n",
    "#     return model"
   ]
  },
  {
   "cell_type": "code",
   "execution_count": 63,
   "id": "631099db",
   "metadata": {},
   "outputs": [],
   "source": [
    "# my_model_history = KerasClassifier(build_fn=create_model, epochs=50, batch_size=64, verbose=0)"
   ]
  },
  {
   "cell_type": "code",
   "execution_count": 64,
   "id": "6e9d76c9",
   "metadata": {},
   "outputs": [],
   "source": [
    "# #Grid Search fitting in dataset\n",
    "# grid = GridSearchCV(estimator=my_model_history, param_grid=param_grid, n_jobs=-1, cv=3)\n",
    "# grid_result = grid.fit(x_new, y_new)"
   ]
  },
  {
   "cell_type": "markdown",
   "id": "c9709c77",
   "metadata": {},
   "source": [
    "#### Display Grid Search best score and best parameters"
   ]
  },
  {
   "cell_type": "code",
   "execution_count": 65,
   "id": "a822ece3",
   "metadata": {},
   "outputs": [],
   "source": [
    "# print(\"Best: %f using %s\" % (grid_result.best_score_, grid_result.best_params_))\n",
    "# means = grid_result.cv_results_['mean_test_score']\n",
    "# stds = grid_result.cv_results_['std_test_score']\n",
    "# params = grid_result.cv_results_['params']\n",
    "# for mean, stdev, param in zip(means, stds, params):\n",
    "#     print(\"%f (%f) with: %r\" % (mean, stdev, param))"
   ]
  },
  {
   "cell_type": "markdown",
   "id": "588e3ceb",
   "metadata": {},
   "source": [
    "### Model Building"
   ]
  },
  {
   "cell_type": "code",
   "execution_count": 68,
   "id": "1555d7b1",
   "metadata": {
    "scrolled": true
   },
   "outputs": [
    {
     "name": "stdout",
     "output_type": "stream",
     "text": [
      "Model: \"sequential_8\"\n",
      "_________________________________________________________________\n",
      " Layer (type)                Output Shape              Param #   \n",
      "=================================================================\n",
      " embedding_8 (Embedding)     (None, 35, 100)           1000000   \n",
      "                                                                 \n",
      " conv1d_17 (Conv1D)          (None, 33, 64)            19264     \n",
      "                                                                 \n",
      " max_pooling1d_11 (MaxPoolin  (None, 16, 64)           0         \n",
      " g1D)                                                            \n",
      "                                                                 \n",
      " dropout_10 (Dropout)        (None, 16, 64)            0         \n",
      "                                                                 \n",
      " conv1d_18 (Conv1D)          (None, 14, 64)            12352     \n",
      "                                                                 \n",
      " max_pooling1d_12 (MaxPoolin  (None, 7, 64)            0         \n",
      " g1D)                                                            \n",
      "                                                                 \n",
      " dropout_11 (Dropout)        (None, 7, 64)             0         \n",
      "                                                                 \n",
      " flatten_1 (Flatten)         (None, 448)               0         \n",
      "                                                                 \n",
      " dense_3 (Dense)             (None, 128)               57472     \n",
      "                                                                 \n",
      " dropout_12 (Dropout)        (None, 128)               0         \n",
      "                                                                 \n",
      " dense_4 (Dense)             (None, 128)               16512     \n",
      "                                                                 \n",
      " dropout_13 (Dropout)        (None, 128)               0         \n",
      "                                                                 \n",
      " dense_5 (Dense)             (None, 6)                 774       \n",
      "                                                                 \n",
      "=================================================================\n",
      "Total params: 1,106,374\n",
      "Trainable params: 1,106,374\n",
      "Non-trainable params: 0\n",
      "_________________________________________________________________\n"
     ]
    }
   ],
   "source": [
    "# # Creating model 1: CNN - LeNet-5\n",
    "# model=Sequential()\n",
    "# #model.add(Embedding(voc_size, embed_size, weights=[embedding_matrix]))\n",
    "\n",
    "# model.add(Embedding(input_dim=voc_size, output_dim =100 ,input_length=35))\n",
    "# model.add(Conv1D(filters=64, kernel_size=3, activation='relu'))\n",
    "# model.add(MaxPooling1D(pool_size=2))\n",
    "# model.add(Dropout(0.2))\n",
    "\n",
    "# model.add(Conv1D(filters=64, kernel_size=3, activation='relu'))\n",
    "# model.add(MaxPooling1D(pool_size=2))\n",
    "# model.add(Dropout(0.2))\n",
    "\n",
    "# # model.add(Conv1D(filters=128, kernel_size=5, activation='relu'))\n",
    "# # model.add(MaxPooling1D(pool_size=5))\n",
    "# # #model.add(Dropout(0.4))\n",
    "\n",
    "# model.add(Flatten())\n",
    "# model.add(Dense(128, activation='relu'))\n",
    "# model.add(Dropout(0.2))\n",
    "# model.add(Dense(128, activation='relu'))\n",
    "# model.add(Dropout(0.2))\n",
    "# model.add(Dense(6, activation='softmax'))\n",
    "\n",
    "# #model.add(Dense(6,activation='softmax'))\n",
    "# model.compile(loss='sparse_categorical_crossentropy',optimizer= tf.keras.optimizers.Adam(learning_rate=0.001),\n",
    "#               metrics=['accuracy'])\n",
    "# model.summary()"
   ]
  },
  {
   "cell_type": "code",
   "execution_count": 76,
   "id": "aba424e9",
   "metadata": {},
   "outputs": [
    {
     "name": "stdout",
     "output_type": "stream",
     "text": [
      "Model: \"sequential_16\"\n",
      "_________________________________________________________________\n",
      " Layer (type)                Output Shape              Param #   \n",
      "=================================================================\n",
      " embedding_16 (Embedding)    (None, 35, 100)           1000000   \n",
      "                                                                 \n",
      " conv1d_47 (Conv1D)          (None, 33, 64)            19264     \n",
      "                                                                 \n",
      " max_pooling1d_29 (MaxPoolin  (None, 16, 64)           0         \n",
      " g1D)                                                            \n",
      "                                                                 \n",
      " dropout_28 (Dropout)        (None, 16, 64)            0         \n",
      "                                                                 \n",
      " conv1d_48 (Conv1D)          (None, 14, 64)            12352     \n",
      "                                                                 \n",
      " max_pooling1d_30 (MaxPoolin  (None, 7, 64)            0         \n",
      " g1D)                                                            \n",
      "                                                                 \n",
      " dropout_29 (Dropout)        (None, 7, 64)             0         \n",
      "                                                                 \n",
      " conv1d_49 (Conv1D)          (None, 5, 64)             12352     \n",
      "                                                                 \n",
      " conv1d_50 (Conv1D)          (None, 3, 12648)          2441064   \n",
      "                                                                 \n",
      " conv1d_51 (Conv1D)          (None, 1, 64)             2428480   \n",
      "                                                                 \n",
      " dropout_30 (Dropout)        (None, 1, 64)             0         \n",
      "                                                                 \n",
      " flatten_2 (Flatten)         (None, 64)                0         \n",
      "                                                                 \n",
      " dense_6 (Dense)             (None, 100)               6500      \n",
      "                                                                 \n",
      " dropout_31 (Dropout)        (None, 100)               0         \n",
      "                                                                 \n",
      " dense_7 (Dense)             (None, 100)               10100     \n",
      "                                                                 \n",
      " dropout_32 (Dropout)        (None, 100)               0         \n",
      "                                                                 \n",
      " dense_8 (Dense)             (None, 6)                 606       \n",
      "                                                                 \n",
      "=================================================================\n",
      "Total params: 5,930,718\n",
      "Trainable params: 5,930,718\n",
      "Non-trainable params: 0\n",
      "_________________________________________________________________\n",
      "Model: \"sequential_16\"\n",
      "_________________________________________________________________\n",
      " Layer (type)                Output Shape              Param #   \n",
      "=================================================================\n",
      " embedding_16 (Embedding)    (None, 35, 100)           1000000   \n",
      "                                                                 \n",
      " conv1d_47 (Conv1D)          (None, 33, 64)            19264     \n",
      "                                                                 \n",
      " max_pooling1d_29 (MaxPoolin  (None, 16, 64)           0         \n",
      " g1D)                                                            \n",
      "                                                                 \n",
      " dropout_28 (Dropout)        (None, 16, 64)            0         \n",
      "                                                                 \n",
      " conv1d_48 (Conv1D)          (None, 14, 64)            12352     \n",
      "                                                                 \n",
      " max_pooling1d_30 (MaxPoolin  (None, 7, 64)            0         \n",
      " g1D)                                                            \n",
      "                                                                 \n",
      " dropout_29 (Dropout)        (None, 7, 64)             0         \n",
      "                                                                 \n",
      " conv1d_49 (Conv1D)          (None, 5, 64)             12352     \n",
      "                                                                 \n",
      " conv1d_50 (Conv1D)          (None, 3, 12648)          2441064   \n",
      "                                                                 \n",
      " conv1d_51 (Conv1D)          (None, 1, 64)             2428480   \n",
      "                                                                 \n",
      " dropout_30 (Dropout)        (None, 1, 64)             0         \n",
      "                                                                 \n",
      " flatten_2 (Flatten)         (None, 64)                0         \n",
      "                                                                 \n",
      " dense_6 (Dense)             (None, 100)               6500      \n",
      "                                                                 \n",
      " dropout_31 (Dropout)        (None, 100)               0         \n",
      "                                                                 \n",
      " dense_7 (Dense)             (None, 100)               10100     \n",
      "                                                                 \n",
      " dropout_32 (Dropout)        (None, 100)               0         \n",
      "                                                                 \n",
      " dense_8 (Dense)             (None, 6)                 606       \n",
      "                                                                 \n",
      "=================================================================\n",
      "Total params: 5,930,718\n",
      "Trainable params: 5,930,718\n",
      "Non-trainable params: 0\n",
      "_________________________________________________________________\n"
     ]
    }
   ],
   "source": [
    "# Creating model 2: CNN - AlexNEt\n",
    "model = Sequential()\n",
    "\n",
    "model.add(Embedding(input_dim=voc_size, output_dim =100 ,input_length=35))\n",
    "model.add(Conv1D(filters=64, kernel_size=3, activation='relu'))\n",
    "model.add(MaxPooling1D())\n",
    "model.add(Dropout(0.2))\n",
    "model.add(Conv1D(filters=64, kernel_size=3, activation='relu'))\n",
    "model.add(MaxPooling1D())\n",
    "model.add(Dropout(0.2))\n",
    "model.add(Conv1D(filters=64, kernel_size=3, activation='relu'))\n",
    "model.add(Conv1D(filters=12648, kernel_size=3, activation='relu'))\n",
    "model.add(Conv1D(filters=64, kernel_size=3, activation='relu'))\n",
    "#model.add(MaxPooling1D())\n",
    "model.add(Dropout(0.2))\n",
    "\n",
    "model.add(Flatten())\n",
    "model.add(Dense(100, activation='relu'))\n",
    "model.add(Dropout(0.2))\n",
    "model.add(Dense(100, activation='relu'))\n",
    "model.add(Dropout(0.2))\n",
    "model.add(Dense(6, activation='softmax'))\n",
    "\n",
    "model.summary()\n",
    "\n",
    "from keras import optimizers\n",
    "model.compile(loss='sparse_categorical_crossentropy',optimizer= tf.keras.optimizers.Adam(learning_rate=0.001),\n",
    "              metrics=['accuracy'])\n",
    "model.summary()"
   ]
  },
  {
   "cell_type": "code",
   "execution_count": null,
   "id": "75b58f5d",
   "metadata": {},
   "outputs": [],
   "source": []
  },
  {
   "cell_type": "markdown",
   "id": "5ac23416",
   "metadata": {},
   "source": [
    "##### Training CNN model"
   ]
  },
  {
   "cell_type": "code",
   "execution_count": 78,
   "id": "b93690c8",
   "metadata": {
    "scrolled": false
   },
   "outputs": [
    {
     "name": "stdout",
     "output_type": "stream",
     "text": [
      "Epoch 1/50\n",
      "659/659 [==============================] - ETA: 0s - loss: 1.4705 - accuracy: 0.3124\n",
      "Epoch 00001: val_loss improved from inf to 1.25067, saving model to weights_CNN.h5\n",
      "659/659 [==============================] - 448s 679ms/step - loss: 1.4705 - accuracy: 0.3124 - val_loss: 1.2507 - val_accuracy: 0.4333\n",
      "Epoch 2/50\n",
      "659/659 [==============================] - ETA: 0s - loss: 1.3541 - accuracy: 0.3666\n",
      "Epoch 00002: val_loss improved from 1.25067 to 1.19750, saving model to weights_CNN.h5\n",
      "659/659 [==============================] - 461s 700ms/step - loss: 1.3541 - accuracy: 0.3666 - val_loss: 1.1975 - val_accuracy: 0.5050\n",
      "Epoch 3/50\n",
      "659/659 [==============================] - ETA: 0s - loss: 1.2264 - accuracy: 0.4664\n",
      "Epoch 00003: val_loss improved from 1.19750 to 0.98428, saving model to weights_CNN.h5\n",
      "659/659 [==============================] - 462s 701ms/step - loss: 1.2264 - accuracy: 0.4664 - val_loss: 0.9843 - val_accuracy: 0.6104\n",
      "Epoch 4/50\n",
      "659/659 [==============================] - ETA: 0s - loss: 1.0804 - accuracy: 0.5483\n",
      "Epoch 00004: val_loss improved from 0.98428 to 0.86811, saving model to weights_CNN.h5\n",
      "659/659 [==============================] - 458s 696ms/step - loss: 1.0804 - accuracy: 0.5483 - val_loss: 0.8681 - val_accuracy: 0.6430\n",
      "Epoch 5/50\n",
      "659/659 [==============================] - ETA: 0s - loss: 0.9463 - accuracy: 0.6135\n",
      "Epoch 00005: val_loss improved from 0.86811 to 0.71133, saving model to weights_CNN.h5\n",
      "659/659 [==============================] - 458s 695ms/step - loss: 0.9463 - accuracy: 0.6135 - val_loss: 0.7113 - val_accuracy: 0.7571\n",
      "Epoch 6/50\n",
      "659/659 [==============================] - ETA: 0s - loss: 0.8316 - accuracy: 0.6656\n",
      "Epoch 00006: val_loss improved from 0.71133 to 0.60670, saving model to weights_CNN.h5\n",
      "659/659 [==============================] - 452s 685ms/step - loss: 0.8316 - accuracy: 0.6656 - val_loss: 0.6067 - val_accuracy: 0.7863\n",
      "Epoch 7/50\n",
      "659/659 [==============================] - ETA: 0s - loss: 0.7441 - accuracy: 0.7054\n",
      "Epoch 00007: val_loss improved from 0.60670 to 0.56583, saving model to weights_CNN.h5\n",
      "659/659 [==============================] - 454s 689ms/step - loss: 0.7441 - accuracy: 0.7054 - val_loss: 0.5658 - val_accuracy: 0.8002\n",
      "Epoch 8/50\n",
      "659/659 [==============================] - ETA: 0s - loss: 0.6729 - accuracy: 0.7366\n",
      "Epoch 00008: val_loss improved from 0.56583 to 0.47312, saving model to weights_CNN.h5\n",
      "659/659 [==============================] - 471s 715ms/step - loss: 0.6729 - accuracy: 0.7366 - val_loss: 0.4731 - val_accuracy: 0.8323\n",
      "Epoch 9/50\n",
      "659/659 [==============================] - ETA: 0s - loss: 0.6182 - accuracy: 0.7635\n",
      "Epoch 00009: val_loss improved from 0.47312 to 0.42367, saving model to weights_CNN.h5\n",
      "659/659 [==============================] - 452s 687ms/step - loss: 0.6182 - accuracy: 0.7635 - val_loss: 0.4237 - val_accuracy: 0.8328\n",
      "Epoch 10/50\n",
      "659/659 [==============================] - ETA: 0s - loss: 0.5642 - accuracy: 0.7875\n",
      "Epoch 00010: val_loss improved from 0.42367 to 0.39814, saving model to weights_CNN.h5\n",
      "659/659 [==============================] - 452s 686ms/step - loss: 0.5642 - accuracy: 0.7875 - val_loss: 0.3981 - val_accuracy: 0.8503\n",
      "Epoch 11/50\n",
      "659/659 [==============================] - ETA: 0s - loss: 0.5254 - accuracy: 0.8039\n",
      "Epoch 00011: val_loss improved from 0.39814 to 0.39314, saving model to weights_CNN.h5\n",
      "659/659 [==============================] - 450s 683ms/step - loss: 0.5254 - accuracy: 0.8039 - val_loss: 0.3931 - val_accuracy: 0.8643\n",
      "Epoch 12/50\n",
      "659/659 [==============================] - ETA: 0s - loss: 0.4974 - accuracy: 0.8157\n",
      "Epoch 00012: val_loss improved from 0.39314 to 0.36610, saving model to weights_CNN.h5\n",
      "659/659 [==============================] - 451s 684ms/step - loss: 0.4974 - accuracy: 0.8157 - val_loss: 0.3661 - val_accuracy: 0.8765\n",
      "Epoch 13/50\n",
      "659/659 [==============================] - ETA: 0s - loss: 0.4653 - accuracy: 0.8280\n",
      "Epoch 00013: val_loss improved from 0.36610 to 0.33213, saving model to weights_CNN.h5\n",
      "659/659 [==============================] - 454s 689ms/step - loss: 0.4653 - accuracy: 0.8280 - val_loss: 0.3321 - val_accuracy: 0.8858\n",
      "Epoch 14/50\n",
      "659/659 [==============================] - ETA: 0s - loss: 0.4392 - accuracy: 0.8382\n",
      "Epoch 00014: val_loss did not improve from 0.33213\n",
      "659/659 [==============================] - 445s 675ms/step - loss: 0.4392 - accuracy: 0.8382 - val_loss: 0.3514 - val_accuracy: 0.8794\n",
      "Epoch 15/50\n",
      "659/659 [==============================] - ETA: 0s - loss: 0.4277 - accuracy: 0.8424\n",
      "Epoch 00015: val_loss improved from 0.33213 to 0.28001, saving model to weights_CNN.h5\n",
      "659/659 [==============================] - 375s 569ms/step - loss: 0.4277 - accuracy: 0.8424 - val_loss: 0.2800 - val_accuracy: 0.9109\n",
      "Epoch 16/50\n",
      "659/659 [==============================] - ETA: 0s - loss: 0.4026 - accuracy: 0.8548\n",
      "Epoch 00016: val_loss did not improve from 0.28001\n",
      "659/659 [==============================] - 370s 561ms/step - loss: 0.4026 - accuracy: 0.8548 - val_loss: 0.2972 - val_accuracy: 0.8963\n",
      "Epoch 17/50\n",
      "659/659 [==============================] - ETA: 0s - loss: 0.3887 - accuracy: 0.8604\n",
      "Epoch 00017: val_loss improved from 0.28001 to 0.27248, saving model to weights_CNN.h5\n",
      "659/659 [==============================] - 373s 566ms/step - loss: 0.3887 - accuracy: 0.8604 - val_loss: 0.2725 - val_accuracy: 0.9033\n",
      "Epoch 18/50\n",
      "659/659 [==============================] - ETA: 0s - loss: 0.3692 - accuracy: 0.8669\n",
      "Epoch 00018: val_loss did not improve from 0.27248\n",
      "659/659 [==============================] - 371s 562ms/step - loss: 0.3692 - accuracy: 0.8669 - val_loss: 0.2857 - val_accuracy: 0.9039\n",
      "Epoch 19/50\n",
      "659/659 [==============================] - ETA: 0s - loss: 0.3580 - accuracy: 0.8714\n",
      "Epoch 00019: val_loss improved from 0.27248 to 0.25263, saving model to weights_CNN.h5\n",
      "659/659 [==============================] - 382s 580ms/step - loss: 0.3580 - accuracy: 0.8714 - val_loss: 0.2526 - val_accuracy: 0.9225\n",
      "Epoch 20/50\n",
      "659/659 [==============================] - ETA: 0s - loss: 0.3403 - accuracy: 0.8784\n",
      "Epoch 00020: val_loss improved from 0.25263 to 0.25204, saving model to weights_CNN.h5\n",
      "659/659 [==============================] - 399s 606ms/step - loss: 0.3403 - accuracy: 0.8784 - val_loss: 0.2520 - val_accuracy: 0.9062\n",
      "Epoch 21/50\n",
      "659/659 [==============================] - ETA: 0s - loss: 0.3296 - accuracy: 0.8826\n",
      "Epoch 00021: val_loss did not improve from 0.25204\n",
      "659/659 [==============================] - 6447s 10s/step - loss: 0.3296 - accuracy: 0.8826 - val_loss: 0.2709 - val_accuracy: 0.9161\n",
      "Epoch 22/50\n",
      "659/659 [==============================] - ETA: 0s - loss: 0.3228 - accuracy: 0.8852\n",
      "Epoch 00022: val_loss improved from 0.25204 to 0.23538, saving model to weights_CNN.h5\n",
      "659/659 [==============================] - 235s 356ms/step - loss: 0.3228 - accuracy: 0.8852 - val_loss: 0.2354 - val_accuracy: 0.9220\n",
      "Epoch 23/50\n",
      "659/659 [==============================] - ETA: 0s - loss: 0.3061 - accuracy: 0.8906\n",
      "Epoch 00023: val_loss improved from 0.23538 to 0.22557, saving model to weights_CNN.h5\n",
      "659/659 [==============================] - 236s 358ms/step - loss: 0.3061 - accuracy: 0.8906 - val_loss: 0.2256 - val_accuracy: 0.9260\n",
      "Epoch 24/50\n",
      "659/659 [==============================] - ETA: 0s - loss: 0.3063 - accuracy: 0.8904\n",
      "Epoch 00024: val_loss improved from 0.22557 to 0.21804, saving model to weights_CNN.h5\n",
      "659/659 [==============================] - 229s 348ms/step - loss: 0.3063 - accuracy: 0.8904 - val_loss: 0.2180 - val_accuracy: 0.9272\n",
      "Epoch 25/50\n",
      "659/659 [==============================] - ETA: 0s - loss: 0.2952 - accuracy: 0.8962\n",
      "Epoch 00025: val_loss did not improve from 0.21804\n",
      "659/659 [==============================] - 230s 349ms/step - loss: 0.2952 - accuracy: 0.8962 - val_loss: 0.2325 - val_accuracy: 0.9190\n",
      "Epoch 26/50\n",
      "659/659 [==============================] - ETA: 0s - loss: 0.2861 - accuracy: 0.8987\n",
      "Epoch 00026: val_loss improved from 0.21804 to 0.21572, saving model to weights_CNN.h5\n",
      "659/659 [==============================] - 233s 354ms/step - loss: 0.2861 - accuracy: 0.8987 - val_loss: 0.2157 - val_accuracy: 0.9307\n",
      "Epoch 27/50\n"
     ]
    },
    {
     "name": "stdout",
     "output_type": "stream",
     "text": [
      "659/659 [==============================] - ETA: 0s - loss: 0.2740 - accuracy: 0.9033\n",
      "Epoch 00027: val_loss improved from 0.21572 to 0.20635, saving model to weights_CNN.h5\n",
      "659/659 [==============================] - 233s 354ms/step - loss: 0.2740 - accuracy: 0.9033 - val_loss: 0.2064 - val_accuracy: 0.9295\n",
      "Epoch 28/50\n",
      "659/659 [==============================] - ETA: 0s - loss: 0.2685 - accuracy: 0.9063\n",
      "Epoch 00028: val_loss improved from 0.20635 to 0.19791, saving model to weights_CNN.h5\n",
      "659/659 [==============================] - 234s 356ms/step - loss: 0.2685 - accuracy: 0.9063 - val_loss: 0.1979 - val_accuracy: 0.9371\n",
      "Epoch 29/50\n",
      "659/659 [==============================] - ETA: 0s - loss: 0.2601 - accuracy: 0.9088\n",
      "Epoch 00029: val_loss improved from 0.19791 to 0.19724, saving model to weights_CNN.h5\n",
      "659/659 [==============================] - 234s 354ms/step - loss: 0.2601 - accuracy: 0.9088 - val_loss: 0.1972 - val_accuracy: 0.9377\n",
      "Epoch 30/50\n",
      "659/659 [==============================] - ETA: 0s - loss: 0.2558 - accuracy: 0.9108\n",
      "Epoch 00030: val_loss improved from 0.19724 to 0.18656, saving model to weights_CNN.h5\n",
      "659/659 [==============================] - 237s 360ms/step - loss: 0.2558 - accuracy: 0.9108 - val_loss: 0.1866 - val_accuracy: 0.9342\n",
      "Epoch 31/50\n",
      "659/659 [==============================] - ETA: 0s - loss: 0.2563 - accuracy: 0.9103\n",
      "Epoch 00031: val_loss did not improve from 0.18656\n",
      "659/659 [==============================] - 236s 359ms/step - loss: 0.2563 - accuracy: 0.9103 - val_loss: 0.1933 - val_accuracy: 0.9377\n",
      "Epoch 32/50\n",
      "659/659 [==============================] - ETA: 0s - loss: 0.2496 - accuracy: 0.9119\n",
      "Epoch 00032: val_loss did not improve from 0.18656\n",
      "659/659 [==============================] - 240s 364ms/step - loss: 0.2496 - accuracy: 0.9119 - val_loss: 0.1922 - val_accuracy: 0.9266\n",
      "Epoch 33/50\n",
      "659/659 [==============================] - ETA: 0s - loss: 0.2389 - accuracy: 0.9164\n",
      "Epoch 00033: val_loss did not improve from 0.18656\n",
      "659/659 [==============================] - 440s 667ms/step - loss: 0.2389 - accuracy: 0.9164 - val_loss: 0.1936 - val_accuracy: 0.9243\n",
      "Epoch 34/50\n",
      "659/659 [==============================] - ETA: 0s - loss: 0.2334 - accuracy: 0.9187\n",
      "Epoch 00034: val_loss improved from 0.18656 to 0.18549, saving model to weights_CNN.h5\n",
      "659/659 [==============================] - 449s 682ms/step - loss: 0.2334 - accuracy: 0.9187 - val_loss: 0.1855 - val_accuracy: 0.9324\n",
      "Epoch 35/50\n",
      "659/659 [==============================] - ETA: 0s - loss: 0.2248 - accuracy: 0.9205\n",
      "Epoch 00035: val_loss improved from 0.18549 to 0.18215, saving model to weights_CNN.h5\n",
      "659/659 [==============================] - 444s 674ms/step - loss: 0.2248 - accuracy: 0.9205 - val_loss: 0.1821 - val_accuracy: 0.9354\n",
      "Epoch 36/50\n",
      "659/659 [==============================] - ETA: 0s - loss: 0.2297 - accuracy: 0.9214\n",
      "Epoch 00036: val_loss improved from 0.18215 to 0.17375, saving model to weights_CNN.h5\n",
      "659/659 [==============================] - 371s 563ms/step - loss: 0.2297 - accuracy: 0.9214 - val_loss: 0.1738 - val_accuracy: 0.9412\n",
      "Epoch 37/50\n",
      "659/659 [==============================] - ETA: 0s - loss: 0.2216 - accuracy: 0.9226\n",
      "Epoch 00037: val_loss improved from 0.17375 to 0.17048, saving model to weights_CNN.h5\n",
      "659/659 [==============================] - 279s 423ms/step - loss: 0.2216 - accuracy: 0.9226 - val_loss: 0.1705 - val_accuracy: 0.9377\n",
      "Epoch 38/50\n",
      "659/659 [==============================] - ETA: 0s - loss: 0.2218 - accuracy: 0.9221\n",
      "Epoch 00038: val_loss did not improve from 0.17048\n",
      "659/659 [==============================] - 253s 384ms/step - loss: 0.2218 - accuracy: 0.9221 - val_loss: 0.1765 - val_accuracy: 0.9418\n",
      "Epoch 39/50\n",
      "659/659 [==============================] - ETA: 0s - loss: 0.2148 - accuracy: 0.9256\n",
      "Epoch 00039: val_loss did not improve from 0.17048\n",
      "659/659 [==============================] - 255s 386ms/step - loss: 0.2148 - accuracy: 0.9256 - val_loss: 0.1774 - val_accuracy: 0.9359\n",
      "Epoch 40/50\n",
      "659/659 [==============================] - ETA: 0s - loss: 0.2148 - accuracy: 0.9258\n",
      "Epoch 00040: val_loss did not improve from 0.17048\n",
      "659/659 [==============================] - 253s 384ms/step - loss: 0.2148 - accuracy: 0.9258 - val_loss: 0.1832 - val_accuracy: 0.9388\n",
      "Epoch 41/50\n",
      "659/659 [==============================] - ETA: 0s - loss: 0.2089 - accuracy: 0.9275\n",
      "Epoch 00041: val_loss improved from 0.17048 to 0.16789, saving model to weights_CNN.h5\n",
      "659/659 [==============================] - 241s 365ms/step - loss: 0.2089 - accuracy: 0.9275 - val_loss: 0.1679 - val_accuracy: 0.9435\n",
      "Epoch 42/50\n",
      "659/659 [==============================] - ETA: 0s - loss: 0.1982 - accuracy: 0.9310\n",
      "Epoch 00042: val_loss improved from 0.16789 to 0.16306, saving model to weights_CNN.h5\n",
      "659/659 [==============================] - 254s 385ms/step - loss: 0.1982 - accuracy: 0.9310 - val_loss: 0.1631 - val_accuracy: 0.9441\n",
      "Epoch 43/50\n",
      "659/659 [==============================] - ETA: 0s - loss: 0.2024 - accuracy: 0.9300\n",
      "Epoch 00043: val_loss did not improve from 0.16306\n",
      "659/659 [==============================] - 300s 455ms/step - loss: 0.2024 - accuracy: 0.9300 - val_loss: 0.1721 - val_accuracy: 0.9441\n",
      "Epoch 44/50\n",
      "659/659 [==============================] - ETA: 0s - loss: 0.1988 - accuracy: 0.9304\n",
      "Epoch 00044: val_loss did not improve from 0.16306\n",
      "659/659 [==============================] - 289s 438ms/step - loss: 0.1988 - accuracy: 0.9304 - val_loss: 0.1662 - val_accuracy: 0.9412\n",
      "Epoch 45/50\n",
      "659/659 [==============================] - ETA: 0s - loss: 0.1942 - accuracy: 0.9328\n",
      "Epoch 00045: val_loss did not improve from 0.16306\n",
      "659/659 [==============================] - 250s 380ms/step - loss: 0.1942 - accuracy: 0.9328 - val_loss: 0.1781 - val_accuracy: 0.9423\n",
      "Epoch 46/50\n",
      "659/659 [==============================] - ETA: 0s - loss: 0.1937 - accuracy: 0.9326\n",
      "Epoch 00046: val_loss improved from 0.16306 to 0.15591, saving model to weights_CNN.h5\n",
      "659/659 [==============================] - 302s 458ms/step - loss: 0.1937 - accuracy: 0.9326 - val_loss: 0.1559 - val_accuracy: 0.9476\n",
      "Epoch 47/50\n",
      "659/659 [==============================] - ETA: 0s - loss: 0.1860 - accuracy: 0.9338\n",
      "Epoch 00047: val_loss did not improve from 0.15591\n",
      "659/659 [==============================] - 256s 389ms/step - loss: 0.1860 - accuracy: 0.9338 - val_loss: 0.1614 - val_accuracy: 0.9429\n",
      "Epoch 48/50\n",
      "659/659 [==============================] - ETA: 0s - loss: 0.1849 - accuracy: 0.9359\n",
      "Epoch 00048: val_loss improved from 0.15591 to 0.15108, saving model to weights_CNN.h5\n",
      "659/659 [==============================] - 264s 401ms/step - loss: 0.1849 - accuracy: 0.9359 - val_loss: 0.1511 - val_accuracy: 0.9464\n",
      "Epoch 49/50\n",
      "659/659 [==============================] - ETA: 0s - loss: 0.1879 - accuracy: 0.9340\n",
      "Epoch 00049: val_loss did not improve from 0.15108\n",
      "659/659 [==============================] - 265s 402ms/step - loss: 0.1879 - accuracy: 0.9340 - val_loss: 0.1665 - val_accuracy: 0.9476\n",
      "Epoch 50/50\n",
      "659/659 [==============================] - ETA: 0s - loss: 0.1838 - accuracy: 0.9372\n",
      "Epoch 00050: val_loss improved from 0.15108 to 0.14950, saving model to weights_CNN.h5\n",
      "659/659 [==============================] - 245s 371ms/step - loss: 0.1838 - accuracy: 0.9372 - val_loss: 0.1495 - val_accuracy: 0.9482\n"
     ]
    }
   ],
   "source": [
    "# Training CNN model\n",
    "model_save = ModelCheckpoint('weights_CNN.h5', save_best_only = True, save_weights_only = True, \n",
    "                             monitor = 'val_loss', \n",
    "                             mode = 'min', verbose = 3)\n",
    "history = model.fit(x_new, y_new,validation_data=(X_val,y_val),epochs=50,batch_size=64,callbacks = [model_save])"
   ]
  },
  {
   "cell_type": "markdown",
   "id": "c5ac702c",
   "metadata": {},
   "source": [
    "##### Plot Model Accuracy and Loss"
   ]
  },
  {
   "cell_type": "code",
   "execution_count": 79,
   "id": "0a4448c8",
   "metadata": {},
   "outputs": [
    {
     "name": "stdout",
     "output_type": "stream",
     "text": [
      "dict_keys(['loss', 'accuracy', 'val_loss', 'val_accuracy'])\n"
     ]
    },
    {
     "data": {
      "image/png": "[encoded data removed]",
      "text/plain": [
       "<Figure size 432x288 with 1 Axes>"
      ]
     },
     "metadata": {
      "needs_background": "light"
     },
     "output_type": "display_data"
    },
    {
     "data": {
      "image/png": "[encoded data removed]",
      "text/plain": [
       "<Figure size 432x288 with 1 Axes>"
      ]
     },
     "metadata": {
      "needs_background": "light"
     },
     "output_type": "display_data"
    }
   ],
   "source": [
    "#Plotting Model Accuracy and Loss\n",
    "print(history.history.keys())\n",
    "#  \"Accuracy\"\n",
    "#plt.subplot(1, 2, 1)\n",
    "plt.plot(history.history['accuracy'])\n",
    "plt.plot(history.history['val_accuracy'])\n",
    "plt.title('model accuracy')\n",
    "plt.ylabel('accuracy')\n",
    "plt.xlabel('epoch')\n",
    "plt.legend(['train', 'validation'], loc='upper left')\n",
    "plt.show()\n",
    "# \"Loss\"\n",
    "#plt.subplot(1, 2, 2)\n",
    "plt.plot(history.history['loss'])\n",
    "plt.plot(history.history['val_loss'])\n",
    "plt.title('model loss')\n",
    "plt.ylabel('loss')\n",
    "plt.xlabel('epoch')\n",
    "plt.legend(['train', 'validation'], loc='upper left')\n",
    "plt.show()"
   ]
  },
  {
   "cell_type": "code",
   "execution_count": 80,
   "id": "7f001bda",
   "metadata": {},
   "outputs": [],
   "source": [
    "#Load the best weights\n",
    "model.load_weights('weights_CNN.h5')"
   ]
  },
  {
   "cell_type": "markdown",
   "id": "a35a01fe",
   "metadata": {},
   "source": [
    "##### printing y_pred for x_test "
   ]
  },
  {
   "cell_type": "code",
   "execution_count": 81,
   "id": "d8e06959",
   "metadata": {},
   "outputs": [
    {
     "name": "stdout",
     "output_type": "stream",
     "text": [
      "[2 0 4 ... 0 0 2]\n"
     ]
    }
   ],
   "source": [
    "#y_pred=model.predict_classes(X_test)\n",
    "#print(y_pred)\n",
    "\n",
    "predict_x=model.predict(X_test) \n",
    "y_pred=np.argmax(predict_x,axis=1)\n",
    "print(y_pred)"
   ]
  },
  {
   "cell_type": "markdown",
   "id": "d3a73272",
   "metadata": {},
   "source": [
    "#### Accuracy of test prediction"
   ]
  },
  {
   "cell_type": "code",
   "execution_count": 82,
   "id": "044e2717",
   "metadata": {},
   "outputs": [
    {
     "name": "stdout",
     "output_type": "stream",
     "text": [
      "0.9487418452935694\n"
     ]
    }
   ],
   "source": [
    "#Accuracy score\n",
    "print(accuracy_score(y_test,y_pred))"
   ]
  },
  {
   "cell_type": "markdown",
   "id": "28511601",
   "metadata": {},
   "source": [
    "#### Classification report"
   ]
  },
  {
   "cell_type": "code",
   "execution_count": 83,
   "id": "c476ee07",
   "metadata": {
    "scrolled": true
   },
   "outputs": [
    {
     "name": "stdout",
     "output_type": "stream",
     "text": [
      "              precision    recall  f1-score   support\n",
      "\n",
      "           0    0.99115   0.90762   0.94755       617\n",
      "           1    0.97778   0.91149   0.94347       531\n",
      "           2    0.97938   0.96307   0.97116      1381\n",
      "           3    0.95667   0.90252   0.92880       318\n",
      "           4    0.88632   0.98904   0.93486      1277\n",
      "           5    0.99329   0.88095   0.93375       168\n",
      "\n",
      "    accuracy                        0.94874      4292\n",
      "   macro avg    0.96410   0.92578   0.94327      4292\n",
      "weighted avg    0.95205   0.94874   0.94894      4292\n",
      "\n"
     ]
    }
   ],
   "source": [
    "#Classification report\n",
    "print(classification_report(y_test, y_pred, digits=5))"
   ]
  },
  {
   "cell_type": "markdown",
   "id": "f3a1e34f",
   "metadata": {},
   "source": [
    "#### Confusion matrix"
   ]
  },
  {
   "cell_type": "code",
   "execution_count": 84,
   "id": "681b5527",
   "metadata": {},
   "outputs": [
    {
     "name": "stdout",
     "output_type": "stream",
     "text": [
      "Confusion Matrix\n",
      "AxesSubplot(0.125,0.125;0.62x0.755)\n"
     ]
    },
    {
     "data": {
      "image/png": "[encoded data removed]",
      "text/plain": [
       "<Figure size 432x288 with 2 Axes>"
      ]
     },
     "metadata": {
      "needs_background": "light"
     },
     "output_type": "display_data"
    }
   ],
   "source": [
    "#Confusion Matrix\n",
    "print('Confusion Matrix')\n",
    "print(sns.heatmap(confusion_matrix(y_test, y_pred),annot=True,fmt=\"d\"))"
   ]
  },
  {
   "cell_type": "code",
   "execution_count": 85,
   "id": "8185bb8c",
   "metadata": {},
   "outputs": [],
   "source": [
    "from sklearn.metrics import confusion_matrix\n",
    "import numpy as np\n",
    "# Get the confusion matrix\n",
    "cm = confusion_matrix(y_test, y_pred)"
   ]
  },
  {
   "cell_type": "code",
   "execution_count": 86,
   "id": "b7db74a8",
   "metadata": {},
   "outputs": [],
   "source": [
    "#Now the normalize the diagonal entries\n",
    "cm = cm.astype('float') / cm.sum(axis=1)[:, np.newaxis]"
   ]
  },
  {
   "cell_type": "code",
   "execution_count": 76,
   "id": "8caa5ca1",
   "metadata": {},
   "outputs": [],
   "source": [
    "#cm"
   ]
  },
  {
   "cell_type": "code",
   "execution_count": 66,
   "id": "c49adab9",
   "metadata": {},
   "outputs": [],
   "source": [
    "#print(le_name_mapping)"
   ]
  },
  {
   "cell_type": "code",
   "execution_count": 64,
   "id": "ce85b20c",
   "metadata": {},
   "outputs": [],
   "source": [
    "#label = {'anger': 0.92382496, 'fear':0.92655367, 'happy':0.9775525, 'sadness'}\n",
    "#label = dict(zip(label_encoder.classes_,cm_diag ))"
   ]
  },
  {
   "cell_type": "code",
   "execution_count": 67,
   "id": "3e82ce9e",
   "metadata": {},
   "outputs": [],
   "source": [
    "#label"
   ]
  },
  {
   "cell_type": "markdown",
   "id": "38f005b0",
   "metadata": {},
   "source": [
    "#### Confusion matrix diagonal entries after normalization"
   ]
  },
  {
   "cell_type": "code",
   "execution_count": 87,
   "id": "8bacd577",
   "metadata": {},
   "outputs": [
    {
     "data": {
      "text/plain": [
       "array([0.9076175 , 0.91148776, 0.96307024, 0.90251572, 0.98903681,\n",
       "       0.88095238])"
      ]
     },
     "execution_count": 87,
     "metadata": {},
     "output_type": "execute_result"
    }
   ],
   "source": [
    "#The diagonal entries are the accuracies of each class\n",
    "cm.diagonal()"
   ]
  },
  {
   "cell_type": "code",
   "execution_count": 88,
   "id": "0e672252",
   "metadata": {},
   "outputs": [
    {
     "data": {
      "text/plain": [
       "numpy.ndarray"
      ]
     },
     "execution_count": 88,
     "metadata": {},
     "output_type": "execute_result"
    }
   ],
   "source": [
    "cm_diag = cm.diagonal()\n",
    "type(cm_diag)"
   ]
  },
  {
   "cell_type": "code",
   "execution_count": 52,
   "id": "012cb40d",
   "metadata": {},
   "outputs": [],
   "source": [
    "# # We will store the results in a dictionary for easy access later\n",
    "# per_class_accuracies = {}\n",
    "\n",
    "# # Calculate the accuracy for each one of our classes\n",
    "# for idx, cls in enumerate(y_pred):\n",
    "#     # True negatives are all the samples that are not our current GT class (not the current row) \n",
    "#     # and were not predicted as the current class (not the current column)\n",
    "#     true_negatives = np.sum(np.delete(np.delete(cm, idx, axis=0), idx, axis=1))\n",
    "    \n",
    "#     # True positives are all the samples of our current GT class that were predicted as such\n",
    "#     true_positives = cm[idx, idx]\n",
    "    \n",
    "#     # The accuracy for the current class is ratio between correct predictions to all predictions\n",
    "#     per_class_accuracies[cls] = (true_positives + true_negatives) / np.sum(cm)"
   ]
  },
  {
   "cell_type": "markdown",
   "id": "5dec4c3f",
   "metadata": {},
   "source": [
    "##### Mapping of target classes using label-encoder"
   ]
  },
  {
   "cell_type": "code",
   "execution_count": 89,
   "id": "724aa561",
   "metadata": {},
   "outputs": [
    {
     "name": "stdout",
     "output_type": "stream",
     "text": [
      "{'anger': 0, 'fear': 1, 'happy': 2, 'love': 3, 'sadness': 4, 'surprise': 5}\n"
     ]
    }
   ],
   "source": [
    "#Mapping of target classes using label_encoderlabel-encoder\n",
    "le_name_mapping = dict(zip(label_encoder.classes_, label_encoder.transform(label_encoder.classes_)))\n",
    "print(le_name_mapping)"
   ]
  },
  {
   "cell_type": "markdown",
   "id": "437a2d39",
   "metadata": {},
   "source": [
    "##### Accuracy Class-wise"
   ]
  },
  {
   "cell_type": "code",
   "execution_count": 90,
   "id": "5a8e1559",
   "metadata": {
    "scrolled": true
   },
   "outputs": [
    {
     "data": {
      "text/plain": [
       "{'anger': 0.9076175040518638,\n",
       " 'fear': 0.911487758945386,\n",
       " 'happy': 0.9630702389572773,\n",
       " 'love': 0.9025157232704403,\n",
       " 'sadness': 0.9890368050117463,\n",
       " 'surprise': 0.8809523809523809}"
      ]
     },
     "execution_count": 90,
     "metadata": {},
     "output_type": "execute_result"
    }
   ],
   "source": [
    "\n",
    "label = dict(zip(label_encoder.classes_,cm_diag ))\n",
    "label # printing class-wise accuracy"
   ]
  },
  {
   "cell_type": "markdown",
   "id": "2ee17a34",
   "metadata": {},
   "source": [
    "#### Making prediction with examples"
   ]
  },
  {
   "cell_type": "code",
   "execution_count": 54,
   "id": "5d7c6d2c",
   "metadata": {},
   "outputs": [],
   "source": [
    "#Example\n",
    "def predict_emotion(stri):\n",
    "    review = re.sub('[^a-zA-Z]', ' ', stri)\n",
    "    review = review.lower()\n",
    "    review = review.split()\n",
    "    review = [ps.stem(word) for word in review if not word in stopwords.words('english')]\n",
    "    review = ' '.join(review)\n",
    "    onehot_repr = [one_hot(review,voc_size)] \n",
    "    embed = pad_sequences(onehot_repr, padding='pre', maxlen=sent_length)\n",
    "    predicti = model.predict(embed)\n",
    "    return label_encoder.classes_[np.argmax(predicti)]"
   ]
  },
  {
   "cell_type": "markdown",
   "id": "0e409f96",
   "metadata": {},
   "source": [
    "###### predict_emotion('I am feeling so joyful today')"
   ]
  },
  {
   "cell_type": "code",
   "execution_count": 55,
   "id": "07800f40",
   "metadata": {},
   "outputs": [
    {
     "data": {
      "text/plain": [
       "'happy'"
      ]
     },
     "execution_count": 55,
     "metadata": {},
     "output_type": "execute_result"
    }
   ],
   "source": [
    "predict_emotion('I am feeling so joyful today')"
   ]
  },
  {
   "cell_type": "markdown",
   "id": "8ddce81d",
   "metadata": {},
   "source": [
    "###### predict_emotion('He is an arrogant and rude person')"
   ]
  },
  {
   "cell_type": "code",
   "execution_count": 56,
   "id": "cd11ddf6",
   "metadata": {},
   "outputs": [
    {
     "data": {
      "text/plain": [
       "'fear'"
      ]
     },
     "execution_count": 56,
     "metadata": {},
     "output_type": "execute_result"
    }
   ],
   "source": [
    "predict_emotion('He is an arrogant and rude person')"
   ]
  },
  {
   "cell_type": "markdown",
   "id": "99dc4194",
   "metadata": {},
   "source": [
    "###### predict_emotion('The teacher is intimidating and scary')"
   ]
  },
  {
   "cell_type": "code",
   "execution_count": 57,
   "id": "693287e1",
   "metadata": {},
   "outputs": [
    {
     "data": {
      "text/plain": [
       "'fear'"
      ]
     },
     "execution_count": 57,
     "metadata": {},
     "output_type": "execute_result"
    }
   ],
   "source": [
    "predict_emotion('The teacher is intimidating and scary')"
   ]
  },
  {
   "cell_type": "markdown",
   "id": "648d7be2",
   "metadata": {},
   "source": [
    "###### predict_emotion('I just lost my purse.')"
   ]
  },
  {
   "cell_type": "code",
   "execution_count": 58,
   "id": "7165505a",
   "metadata": {},
   "outputs": [
    {
     "data": {
      "text/plain": [
       "'sadness'"
      ]
     },
     "execution_count": 58,
     "metadata": {},
     "output_type": "execute_result"
    }
   ],
   "source": [
    "predict_emotion('I just lost my purse.')"
   ]
  },
  {
   "cell_type": "markdown",
   "id": "7fdd42d8",
   "metadata": {},
   "source": [
    "###### predict_emotion('I am very happy that tomorrow will be a holiday')"
   ]
  },
  {
   "cell_type": "code",
   "execution_count": 59,
   "id": "95cbc25b",
   "metadata": {},
   "outputs": [
    {
     "data": {
      "text/plain": [
       "'love'"
      ]
     },
     "execution_count": 59,
     "metadata": {},
     "output_type": "execute_result"
    }
   ],
   "source": [
    "predict_emotion('I am very happy that tomorrow will be a holiday')"
   ]
  },
  {
   "cell_type": "markdown",
   "id": "e5c7a369",
   "metadata": {},
   "source": [
    "###### predict_emotion('I am very angry that tomorrow will not be a holiday')"
   ]
  },
  {
   "cell_type": "code",
   "execution_count": 60,
   "id": "101c3424",
   "metadata": {},
   "outputs": [
    {
     "data": {
      "text/plain": [
       "'anger'"
      ]
     },
     "execution_count": 60,
     "metadata": {},
     "output_type": "execute_result"
    }
   ],
   "source": [
    "predict_emotion('I am very angry that tomorrow will not be a holiday')"
   ]
  },
  {
   "cell_type": "code",
   "execution_count": null,
   "id": "1002a1e2",
   "metadata": {},
   "outputs": [],
   "source": []
  }
 ],
 "metadata": {
  "kernelspec": {
   "display_name": "Python 3",
   "language": "python",
   "name": "python3"
  },
  "language_info": {
   "codemirror_mode": {
    "name": "ipython",
    "version": 3
   },
   "file_extension": ".py",
   "mimetype": "text/x-python",
   "name": "python",
   "nbconvert_exporter": "python",
   "pygments_lexer": "ipython3",
   "version": "3.8.8"
  }
 },
 "nbformat": 4,
 "nbformat_minor": 5
}
