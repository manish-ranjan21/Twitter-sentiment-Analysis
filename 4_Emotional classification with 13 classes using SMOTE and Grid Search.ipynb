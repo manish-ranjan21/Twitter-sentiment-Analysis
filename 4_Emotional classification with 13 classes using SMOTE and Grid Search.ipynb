{
 "cells": [
  {
   "cell_type": "markdown",
   "id": "69d452ff",
   "metadata": {},
   "source": [
    "## Emotional classification with 13 classes using SMOTE and Grid Search"
   ]
  },
  {
   "cell_type": "code",
   "execution_count": 8,
   "id": "b6086e3a",
   "metadata": {},
   "outputs": [],
   "source": [
    "import numpy as np\n",
    "import pandas as pd \n",
    "import tensorflow as tf\n",
    "import nltk\n",
    "import seaborn as sns\n",
    "import re\n",
    "import matplotlib.pyplot as plt\n",
    "\n",
    "from tensorflow.keras.layers import Embedding, Dense, LSTM, Dropout, Bidirectional\n",
    "from tensorflow.keras.preprocessing.sequence import pad_sequences\n",
    "from tensorflow.keras.models import Sequential\n",
    "from tensorflow.keras.preprocessing.text import one_hot, Tokenizer\n",
    "from tensorflow.keras.callbacks import ModelCheckpoint\n",
    "from nltk.corpus import stopwords\n",
    "from nltk.stem.porter import PorterStemmer\n",
    "from sklearn import preprocessing\n",
    "from sklearn.model_selection import train_test_split\n",
    "from sklearn.metrics import accuracy_score, classification_report, confusion_matrix"
   ]
  },
  {
   "cell_type": "code",
   "execution_count": 9,
   "id": "ae506b13",
   "metadata": {},
   "outputs": [],
   "source": [
    "##train_data = pd.read_csv(\"../input/emotions-dataset-for-nlp/train.txt\", header=None, sep=\";\", names=[\"Comment\",\"Emotion\"], encoding=\"utf-8\")\n",
    "\n",
    "df = pd.read_csv(\"C:/Users/ranja/Desktop/Emotion_final/tweet_13_emotions.csv\")"
   ]
  },
  {
   "cell_type": "code",
   "execution_count": 10,
   "id": "5daf4ba6",
   "metadata": {},
   "outputs": [
    {
     "data": {
      "text/plain": [
       "'C:/Users/ranja/Desktop/Emotion_final/glove.6B.100d.txt'"
      ]
     },
     "execution_count": 10,
     "metadata": {},
     "output_type": "execute_result"
    }
   ],
   "source": [
    "EMBEDDING_FILE= f'C:/Users/ranja/Desktop/Emotion_final/glove.6B.100d.txt'  #GloVe file path\n",
    "EMBEDDING_FILE"
   ]
  },
  {
   "cell_type": "code",
   "execution_count": 11,
   "id": "8f3a62a6",
   "metadata": {},
   "outputs": [
    {
     "data": {
      "text/html": [
       "<div>\n",
       "<style scoped>\n",
       "    .dataframe tbody tr th:only-of-type {\n",
       "        vertical-align: middle;\n",
       "    }\n",
       "\n",
       "    .dataframe tbody tr th {\n",
       "        vertical-align: top;\n",
       "    }\n",
       "\n",
       "    .dataframe thead th {\n",
       "        text-align: right;\n",
       "    }\n",
       "</style>\n",
       "<table border=\"1\" class=\"dataframe\">\n",
       "  <thead>\n",
       "    <tr style=\"text-align: right;\">\n",
       "      <th></th>\n",
       "      <th>tweet_id</th>\n",
       "      <th>sentiment</th>\n",
       "      <th>content</th>\n",
       "    </tr>\n",
       "  </thead>\n",
       "  <tbody>\n",
       "    <tr>\n",
       "      <th>0</th>\n",
       "      <td>1956967341</td>\n",
       "      <td>empty</td>\n",
       "      <td>@tiffanylue i know  i was listenin to bad habi...</td>\n",
       "    </tr>\n",
       "    <tr>\n",
       "      <th>1</th>\n",
       "      <td>1956967666</td>\n",
       "      <td>sadness</td>\n",
       "      <td>Layin n bed with a headache  ughhhh...waitin o...</td>\n",
       "    </tr>\n",
       "    <tr>\n",
       "      <th>2</th>\n",
       "      <td>1956967696</td>\n",
       "      <td>sadness</td>\n",
       "      <td>Funeral ceremony...gloomy friday...</td>\n",
       "    </tr>\n",
       "    <tr>\n",
       "      <th>3</th>\n",
       "      <td>1956967789</td>\n",
       "      <td>enthusiasm</td>\n",
       "      <td>wants to hang out with friends SOON!</td>\n",
       "    </tr>\n",
       "    <tr>\n",
       "      <th>4</th>\n",
       "      <td>1956968416</td>\n",
       "      <td>neutral</td>\n",
       "      <td>@dannycastillo We want to trade with someone w...</td>\n",
       "    </tr>\n",
       "  </tbody>\n",
       "</table>\n",
       "</div>"
      ],
      "text/plain": [
       "     tweet_id   sentiment                                            content\n",
       "0  1956967341       empty  @tiffanylue i know  i was listenin to bad habi...\n",
       "1  1956967666     sadness  Layin n bed with a headache  ughhhh...waitin o...\n",
       "2  1956967696     sadness                Funeral ceremony...gloomy friday...\n",
       "3  1956967789  enthusiasm               wants to hang out with friends SOON!\n",
       "4  1956968416     neutral  @dannycastillo We want to trade with someone w..."
      ]
     },
     "execution_count": 11,
     "metadata": {},
     "output_type": "execute_result"
    }
   ],
   "source": [
    "df.head()"
   ]
  },
  {
   "cell_type": "code",
   "execution_count": 12,
   "id": "44645dac",
   "metadata": {},
   "outputs": [
    {
     "name": "stderr",
     "output_type": "stream",
     "text": [
      "C:\\Users\\ranja\\anaconda3\\lib\\site-packages\\seaborn\\_decorators.py:36: FutureWarning: Pass the following variable as a keyword arg: x. From version 0.12, the only valid positional argument will be `data`, and passing other arguments without an explicit keyword will result in an error or misinterpretation.\n",
      "  warnings.warn(\n"
     ]
    },
    {
     "data": {
      "text/plain": [
       "<AxesSubplot:xlabel='sentiment', ylabel='count'>"
      ]
     },
     "execution_count": 12,
     "metadata": {},
     "output_type": "execute_result"
    },
    {
     "data": {
      "image/png": "[encoded data removed]",
      "text/plain": [
       "<Figure size 864x432 with 1 Axes>"
      ]
     },
     "metadata": {
      "needs_background": "light"
     },
     "output_type": "display_data"
    }
   ],
   "source": [
    "# sns.countplot(df.sentiment)\n",
    "# plt.figure(figsize = (12,6))\n",
    "# plt.show()\n",
    "plt.figure(figsize = (12,6))\n",
    "sns.countplot(df[\"sentiment\"], palette='Set3')"
   ]
  },
  {
   "cell_type": "code",
   "execution_count": 13,
   "id": "b4f06a53",
   "metadata": {},
   "outputs": [
    {
     "data": {
      "text/plain": [
       "neutral       8638\n",
       "worry         8459\n",
       "happiness     5209\n",
       "sadness       5165\n",
       "love          3842\n",
       "surprise      2187\n",
       "fun           1776\n",
       "relief        1526\n",
       "hate          1323\n",
       "empty          827\n",
       "enthusiasm     759\n",
       "boredom        179\n",
       "anger          110\n",
       "Name: sentiment, dtype: int64"
      ]
     },
     "execution_count": 13,
     "metadata": {},
     "output_type": "execute_result"
    }
   ],
   "source": [
    "df['sentiment'].value_counts()"
   ]
  },
  {
   "cell_type": "code",
   "execution_count": 14,
   "id": "8078bd6e",
   "metadata": {},
   "outputs": [],
   "source": [
    "df=df.dropna() #Drop columns with NA values\n",
    "X=df.drop('sentiment',axis=1) #Input\n",
    "y=df['sentiment'] #Output"
   ]
  },
  {
   "cell_type": "code",
   "execution_count": 15,
   "id": "c8527321",
   "metadata": {},
   "outputs": [],
   "source": [
    "messages=X.copy()\n",
    "messages.reset_index(inplace=True) #Drop NA may cause inconsistency in index"
   ]
  },
  {
   "cell_type": "code",
   "execution_count": 16,
   "id": "01652d05",
   "metadata": {},
   "outputs": [
    {
     "name": "stderr",
     "output_type": "stream",
     "text": [
      "[nltk_data] Downloading package stopwords to\n",
      "[nltk_data]     C:\\Users\\ranja\\AppData\\Roaming\\nltk_data...\n",
      "[nltk_data]   Package stopwords is already up-to-date!\n"
     ]
    }
   ],
   "source": [
    "nltk.download('stopwords')\n",
    "ps = PorterStemmer()\n",
    "corpus = []\n",
    "for i in range(0, len(messages)):\n",
    "    review = re.sub('[^a-zA-Z]', ' ', messages['content'][i]) #Remove Special Characters\n",
    "    review = review.lower() #Lower case \n",
    "    review = review.split()\n",
    "    review = [ps.stem(word) for word in review if not word in stopwords.words('english')] #Remove stopwords\n",
    "    review = ' '.join(review)\n",
    "    corpus.append(review)"
   ]
  },
  {
   "cell_type": "code",
   "execution_count": 17,
   "id": "2ffa8710",
   "metadata": {},
   "outputs": [
    {
     "data": {
      "text/plain": [
       "['tiffanylu know listenin bad habit earlier start freakin part',\n",
       " 'layin n bed headach ughhhh waitin call',\n",
       " 'funer ceremoni gloomi friday',\n",
       " 'want hang friend soon',\n",
       " 'dannycastillo want trade someon houston ticket one',\n",
       " 'ping ghostridah go prom bc bf like friend',\n",
       " 'sleep im think old friend want marri damn amp want scandal',\n",
       " 'hmmm http www djhero com',\n",
       " 'charviray charlen love miss',\n",
       " 'kelcouch sorri least friday']"
      ]
     },
     "execution_count": 17,
     "metadata": {},
     "output_type": "execute_result"
    }
   ],
   "source": [
    "corpus[:10]"
   ]
  },
  {
   "cell_type": "code",
   "execution_count": 18,
   "id": "787b35a3",
   "metadata": {},
   "outputs": [
    {
     "name": "stderr",
     "output_type": "stream",
     "text": [
      "C:\\Users\\ranja\\anaconda3\\lib\\site-packages\\IPython\\core\\interactiveshell.py:3357: FutureWarning: arrays to stack must be passed as a \"sequence\" type such as list or tuple. Support for non-sequence iterables such as generators is deprecated as of NumPy 1.16 and will raise an error in the future.\n",
      "  if (await self.run_code(code, result,  async_=asy)):\n"
     ]
    },
    {
     "name": "stdout",
     "output_type": "stream",
     "text": [
      "0.004451992 0.4081574\n"
     ]
    }
   ],
   "source": [
    "#Creating the dictionary with word as key and pretrained-value array as value\n",
    "def get_coefs(word,*arr): return word, np.asarray(arr, dtype='float32')\n",
    "embeddings_index = dict(get_coefs(*o.strip().split()) for o in open(EMBEDDING_FILE, encoding='utf-8'))\n",
    "\n",
    "#Calculate mean and std for the pretrained weights\n",
    "all_embs = np.stack(embeddings_index.values())\n",
    "emb_mean,emb_std = all_embs.mean(), all_embs.std()\n",
    "print(emb_mean,emb_std)"
   ]
  },
  {
   "cell_type": "code",
   "execution_count": 19,
   "id": "725b8e7b",
   "metadata": {},
   "outputs": [],
   "source": [
    "voc_size=10000 # Vocabulary size\n",
    "embed_size=100 #word vector size\n",
    "\n",
    "tokenizer = Tokenizer(num_words=voc_size)\n",
    "tokenizer.fit_on_texts(list(corpus))\n",
    "word_index = tokenizer.word_index #Total words in the corpus\n",
    "nb_words = min(voc_size, len(word_index))\n",
    "\n",
    "#Initialize weight matrix for embedding layer\n",
    "embedding_matrix = np.random.normal(emb_mean, emb_std, (nb_words, embed_size)) \n",
    "\n",
    "for word, i in word_index.items():\n",
    "    if i >= voc_size: continue #Skip the words if vocab size is reached\n",
    "    embedding_vector = embeddings_index.get(word) #Extract the pretrained values from GloVe\n",
    "    if embedding_vector is not None: embedding_matrix[i] = embedding_vector"
   ]
  },
  {
   "cell_type": "code",
   "execution_count": 20,
   "id": "7c99660b",
   "metadata": {},
   "outputs": [
    {
     "data": {
      "text/plain": [
       "10000"
      ]
     },
     "execution_count": 20,
     "metadata": {},
     "output_type": "execute_result"
    }
   ],
   "source": [
    "#Contains the pretrained GloVe weights for the words\n",
    "len(embedding_matrix)"
   ]
  },
  {
   "cell_type": "code",
   "execution_count": 21,
   "id": "fa3b615b",
   "metadata": {},
   "outputs": [],
   "source": [
    "#One hot representation for input\n",
    "onehot_repr=[one_hot(words,voc_size)for words in corpus]\n",
    "\n",
    "#Finding max words\n",
    "l = 0\n",
    "for x in corpus:\n",
    "    l = max(l,len(x.split(' ')))\n",
    "\n",
    "#Padding the sequences for input\n",
    "sent_length= l\n",
    "embedded_docs=pad_sequences(onehot_repr,padding='pre',maxlen=sent_length)"
   ]
  },
  {
   "cell_type": "code",
   "execution_count": 22,
   "id": "e01d4ff7",
   "metadata": {},
   "outputs": [
    {
     "name": "stdout",
     "output_type": "stream",
     "text": [
      "[[   0    0    0 ... 3291 6368 5800]\n",
      " [   0    0    0 ... 8454 9712 3234]\n",
      " [   0    0    0 ... 7820  959 9059]\n",
      " ...\n",
      " [   0    0    0 ... 5784 8250 5472]\n",
      " [   0    0    0 ... 4502 4507 1952]\n",
      " [   0    0    0 ... 6987 8576 4949]]\n"
     ]
    }
   ],
   "source": [
    "print(embedded_docs)"
   ]
  },
  {
   "cell_type": "code",
   "execution_count": 23,
   "id": "b59f5998",
   "metadata": {},
   "outputs": [
    {
     "name": "stdout",
     "output_type": "stream",
     "text": [
      "[ 2 10 10 ...  7  5  7]\n"
     ]
    }
   ],
   "source": [
    "#Encoding the target outputs to integers\n",
    "label_encoder = preprocessing.LabelEncoder()\n",
    "\n",
    "X_final=np.array(embedded_docs) #input to array\n",
    "y = label_encoder.fit_transform(y)\n",
    "y_final=np.array(y)\n",
    "print(y_final)"
   ]
  },
  {
   "cell_type": "code",
   "execution_count": 24,
   "id": "26c785fb",
   "metadata": {},
   "outputs": [
    {
     "data": {
      "text/plain": [
       "((40000, 32), (40000,))"
      ]
     },
     "execution_count": 24,
     "metadata": {},
     "output_type": "execute_result"
    }
   ],
   "source": [
    "X_final.shape,y_final.shape"
   ]
  },
  {
   "cell_type": "code",
   "execution_count": 25,
   "id": "4930b4ba",
   "metadata": {},
   "outputs": [],
   "source": [
    "#Train-Test split\n",
    "X_train, X_test, y_train, y_test = train_test_split(X_final, y_final, \n",
    "                                                    test_size=0.2, random_state=42) \n",
    "#Train-Validation split\n",
    "X_train, X_val, y_train, y_val = train_test_split(X_train, y_train, \n",
    "                                                  test_size=0.1, random_state=21) "
   ]
  },
  {
   "cell_type": "code",
   "execution_count": 26,
   "id": "653978d1",
   "metadata": {},
   "outputs": [
    {
     "data": {
      "text/plain": [
       "((8000,), (3200,))"
      ]
     },
     "execution_count": 26,
     "metadata": {},
     "output_type": "execute_result"
    }
   ],
   "source": [
    "y_test.shape, y_val.shape"
   ]
  },
  {
   "cell_type": "code",
   "execution_count": 27,
   "id": "afb981f4",
   "metadata": {},
   "outputs": [
    {
     "data": {
      "text/plain": [
       "((28800, 32), (28800,))"
      ]
     },
     "execution_count": 27,
     "metadata": {},
     "output_type": "execute_result"
    }
   ],
   "source": [
    "X_train.shape, y_train.shape"
   ]
  },
  {
   "cell_type": "code",
   "execution_count": 28,
   "id": "3982447d",
   "metadata": {},
   "outputs": [],
   "source": [
    "from imblearn.over_sampling import SMOTE"
   ]
  },
  {
   "cell_type": "code",
   "execution_count": 29,
   "id": "728046ce",
   "metadata": {
    "scrolled": true
   },
   "outputs": [],
   "source": [
    "#pip install imblearn"
   ]
  },
  {
   "cell_type": "code",
   "execution_count": 30,
   "id": "110e5dd6",
   "metadata": {},
   "outputs": [
    {
     "data": {
      "text/plain": [
       "array([ 2, 10, 10, ...,  7,  5,  7])"
      ]
     },
     "execution_count": 30,
     "metadata": {},
     "output_type": "execute_result"
    }
   ],
   "source": [
    "y"
   ]
  },
  {
   "cell_type": "code",
   "execution_count": 31,
   "id": "a3be82ae",
   "metadata": {},
   "outputs": [
    {
     "data": {
      "text/plain": [
       "array([ 2, 10, 10, ...,  7,  5,  7])"
      ]
     },
     "execution_count": 31,
     "metadata": {},
     "output_type": "execute_result"
    }
   ],
   "source": [
    "y_final"
   ]
  },
  {
   "cell_type": "code",
   "execution_count": 32,
   "id": "4d1601bd",
   "metadata": {},
   "outputs": [
    {
     "data": {
      "text/plain": [
       "array([[   0,    0,    0, ..., 3291, 6368, 5800],\n",
       "       [   0,    0,    0, ..., 8454, 9712, 3234],\n",
       "       [   0,    0,    0, ..., 7820,  959, 9059],\n",
       "       ...,\n",
       "       [   0,    0,    0, ..., 5784, 8250, 5472],\n",
       "       [   0,    0,    0, ..., 4502, 4507, 1952],\n",
       "       [   0,    0,    0, ..., 6987, 8576, 4949]])"
      ]
     },
     "execution_count": 32,
     "metadata": {},
     "output_type": "execute_result"
    }
   ],
   "source": [
    "X_final"
   ]
  },
  {
   "cell_type": "markdown",
   "id": "e13ce242",
   "metadata": {},
   "source": [
    "#### SMOTE"
   ]
  },
  {
   "cell_type": "code",
   "execution_count": 33,
   "id": "4e479699",
   "metadata": {},
   "outputs": [],
   "source": [
    "sm = SMOTE(random_state = 42)\n",
    "\n",
    "x_new, y_new = sm.fit_resample(X_final, y_final)\n"
   ]
  },
  {
   "cell_type": "code",
   "execution_count": 34,
   "id": "c239c1b7",
   "metadata": {},
   "outputs": [
    {
     "data": {
      "text/plain": [
       "((112294, 32), (40000, 32), (112294,), (40000,))"
      ]
     },
     "execution_count": 34,
     "metadata": {},
     "output_type": "execute_result"
    }
   ],
   "source": [
    "x_new.shape, X_final.shape, y_new.shape, y_final.shape"
   ]
  },
  {
   "cell_type": "code",
   "execution_count": 35,
   "id": "956cdc4c",
   "metadata": {},
   "outputs": [],
   "source": [
    "x_new = pd.DataFrame(x_new)\n",
    "X_final = pd.DataFrame(X_final)\n",
    "y_new = pd.DataFrame(y_new)\n",
    "y_final = pd.DataFrame(y_final)"
   ]
  },
  {
   "cell_type": "code",
   "execution_count": 36,
   "id": "3a4db881",
   "metadata": {},
   "outputs": [
    {
     "data": {
      "text/plain": [
       "0     8638\n",
       "1     8638\n",
       "2     8638\n",
       "3     8638\n",
       "4     8638\n",
       "5     8638\n",
       "6     8638\n",
       "7     8638\n",
       "8     8638\n",
       "9     8638\n",
       "10    8638\n",
       "11    8638\n",
       "12    8638\n",
       "dtype: int64"
      ]
     },
     "execution_count": 36,
     "metadata": {},
     "output_type": "execute_result"
    }
   ],
   "source": [
    "y_new.value_counts()"
   ]
  },
  {
   "cell_type": "code",
   "execution_count": 37,
   "id": "5dd7d790",
   "metadata": {},
   "outputs": [
    {
     "data": {
      "text/plain": [
       "8     8638\n",
       "12    8459\n",
       "5     5209\n",
       "10    5165\n",
       "7     3842\n",
       "11    2187\n",
       "4     1776\n",
       "9     1526\n",
       "6     1323\n",
       "2      827\n",
       "3      759\n",
       "1      179\n",
       "0      110\n",
       "dtype: int64"
      ]
     },
     "execution_count": 37,
     "metadata": {},
     "output_type": "execute_result"
    }
   ],
   "source": [
    "y_final.value_counts()"
   ]
  },
  {
   "cell_type": "code",
   "execution_count": 38,
   "id": "b91ac3ee",
   "metadata": {},
   "outputs": [],
   "source": [
    "y_new = y_new.to_numpy()"
   ]
  },
  {
   "cell_type": "code",
   "execution_count": 39,
   "id": "ca50be44",
   "metadata": {},
   "outputs": [
    {
     "data": {
      "text/plain": [
       "array([[ 2],\n",
       "       [10],\n",
       "       [10],\n",
       "       ...,\n",
       "       [12],\n",
       "       [12],\n",
       "       [12]])"
      ]
     },
     "execution_count": 39,
     "metadata": {},
     "output_type": "execute_result"
    }
   ],
   "source": [
    "y_new"
   ]
  },
  {
   "cell_type": "code",
   "execution_count": 40,
   "id": "5d7f6a6e",
   "metadata": {},
   "outputs": [
    {
     "data": {
      "text/html": [
       "<div>\n",
       "<style scoped>\n",
       "    .dataframe tbody tr th:only-of-type {\n",
       "        vertical-align: middle;\n",
       "    }\n",
       "\n",
       "    .dataframe tbody tr th {\n",
       "        vertical-align: top;\n",
       "    }\n",
       "\n",
       "    .dataframe thead th {\n",
       "        text-align: right;\n",
       "    }\n",
       "</style>\n",
       "<table border=\"1\" class=\"dataframe\">\n",
       "  <thead>\n",
       "    <tr style=\"text-align: right;\">\n",
       "      <th></th>\n",
       "      <th>0</th>\n",
       "      <th>1</th>\n",
       "      <th>2</th>\n",
       "      <th>3</th>\n",
       "      <th>4</th>\n",
       "      <th>5</th>\n",
       "      <th>6</th>\n",
       "      <th>7</th>\n",
       "      <th>8</th>\n",
       "      <th>9</th>\n",
       "      <th>...</th>\n",
       "      <th>22</th>\n",
       "      <th>23</th>\n",
       "      <th>24</th>\n",
       "      <th>25</th>\n",
       "      <th>26</th>\n",
       "      <th>27</th>\n",
       "      <th>28</th>\n",
       "      <th>29</th>\n",
       "      <th>30</th>\n",
       "      <th>31</th>\n",
       "    </tr>\n",
       "  </thead>\n",
       "  <tbody>\n",
       "    <tr>\n",
       "      <th>0</th>\n",
       "      <td>0</td>\n",
       "      <td>0</td>\n",
       "      <td>0</td>\n",
       "      <td>0</td>\n",
       "      <td>0</td>\n",
       "      <td>0</td>\n",
       "      <td>0</td>\n",
       "      <td>0</td>\n",
       "      <td>0</td>\n",
       "      <td>0</td>\n",
       "      <td>...</td>\n",
       "      <td>0</td>\n",
       "      <td>1937</td>\n",
       "      <td>9032</td>\n",
       "      <td>2871</td>\n",
       "      <td>7413</td>\n",
       "      <td>5675</td>\n",
       "      <td>2946</td>\n",
       "      <td>3291</td>\n",
       "      <td>6368</td>\n",
       "      <td>5800</td>\n",
       "    </tr>\n",
       "    <tr>\n",
       "      <th>1</th>\n",
       "      <td>0</td>\n",
       "      <td>0</td>\n",
       "      <td>0</td>\n",
       "      <td>0</td>\n",
       "      <td>0</td>\n",
       "      <td>0</td>\n",
       "      <td>0</td>\n",
       "      <td>0</td>\n",
       "      <td>0</td>\n",
       "      <td>0</td>\n",
       "      <td>...</td>\n",
       "      <td>0</td>\n",
       "      <td>0</td>\n",
       "      <td>0</td>\n",
       "      <td>8295</td>\n",
       "      <td>3872</td>\n",
       "      <td>1399</td>\n",
       "      <td>5319</td>\n",
       "      <td>8454</td>\n",
       "      <td>9712</td>\n",
       "      <td>3234</td>\n",
       "    </tr>\n",
       "    <tr>\n",
       "      <th>2</th>\n",
       "      <td>0</td>\n",
       "      <td>0</td>\n",
       "      <td>0</td>\n",
       "      <td>0</td>\n",
       "      <td>0</td>\n",
       "      <td>0</td>\n",
       "      <td>0</td>\n",
       "      <td>0</td>\n",
       "      <td>0</td>\n",
       "      <td>0</td>\n",
       "      <td>...</td>\n",
       "      <td>0</td>\n",
       "      <td>0</td>\n",
       "      <td>0</td>\n",
       "      <td>0</td>\n",
       "      <td>0</td>\n",
       "      <td>0</td>\n",
       "      <td>8460</td>\n",
       "      <td>7820</td>\n",
       "      <td>959</td>\n",
       "      <td>9059</td>\n",
       "    </tr>\n",
       "    <tr>\n",
       "      <th>3</th>\n",
       "      <td>0</td>\n",
       "      <td>0</td>\n",
       "      <td>0</td>\n",
       "      <td>0</td>\n",
       "      <td>0</td>\n",
       "      <td>0</td>\n",
       "      <td>0</td>\n",
       "      <td>0</td>\n",
       "      <td>0</td>\n",
       "      <td>0</td>\n",
       "      <td>...</td>\n",
       "      <td>0</td>\n",
       "      <td>0</td>\n",
       "      <td>0</td>\n",
       "      <td>0</td>\n",
       "      <td>0</td>\n",
       "      <td>0</td>\n",
       "      <td>9401</td>\n",
       "      <td>106</td>\n",
       "      <td>7350</td>\n",
       "      <td>1363</td>\n",
       "    </tr>\n",
       "    <tr>\n",
       "      <th>4</th>\n",
       "      <td>0</td>\n",
       "      <td>0</td>\n",
       "      <td>0</td>\n",
       "      <td>0</td>\n",
       "      <td>0</td>\n",
       "      <td>0</td>\n",
       "      <td>0</td>\n",
       "      <td>0</td>\n",
       "      <td>0</td>\n",
       "      <td>0</td>\n",
       "      <td>...</td>\n",
       "      <td>0</td>\n",
       "      <td>0</td>\n",
       "      <td>0</td>\n",
       "      <td>2635</td>\n",
       "      <td>9401</td>\n",
       "      <td>2336</td>\n",
       "      <td>8250</td>\n",
       "      <td>5168</td>\n",
       "      <td>2159</td>\n",
       "      <td>6785</td>\n",
       "    </tr>\n",
       "    <tr>\n",
       "      <th>...</th>\n",
       "      <td>...</td>\n",
       "      <td>...</td>\n",
       "      <td>...</td>\n",
       "      <td>...</td>\n",
       "      <td>...</td>\n",
       "      <td>...</td>\n",
       "      <td>...</td>\n",
       "      <td>...</td>\n",
       "      <td>...</td>\n",
       "      <td>...</td>\n",
       "      <td>...</td>\n",
       "      <td>...</td>\n",
       "      <td>...</td>\n",
       "      <td>...</td>\n",
       "      <td>...</td>\n",
       "      <td>...</td>\n",
       "      <td>...</td>\n",
       "      <td>...</td>\n",
       "      <td>...</td>\n",
       "      <td>...</td>\n",
       "      <td>...</td>\n",
       "    </tr>\n",
       "    <tr>\n",
       "      <th>112289</th>\n",
       "      <td>0</td>\n",
       "      <td>0</td>\n",
       "      <td>0</td>\n",
       "      <td>0</td>\n",
       "      <td>0</td>\n",
       "      <td>0</td>\n",
       "      <td>0</td>\n",
       "      <td>0</td>\n",
       "      <td>0</td>\n",
       "      <td>0</td>\n",
       "      <td>...</td>\n",
       "      <td>6574</td>\n",
       "      <td>5751</td>\n",
       "      <td>9648</td>\n",
       "      <td>3989</td>\n",
       "      <td>6486</td>\n",
       "      <td>1475</td>\n",
       "      <td>3957</td>\n",
       "      <td>1338</td>\n",
       "      <td>8179</td>\n",
       "      <td>1612</td>\n",
       "    </tr>\n",
       "    <tr>\n",
       "      <th>112290</th>\n",
       "      <td>0</td>\n",
       "      <td>0</td>\n",
       "      <td>0</td>\n",
       "      <td>0</td>\n",
       "      <td>0</td>\n",
       "      <td>0</td>\n",
       "      <td>0</td>\n",
       "      <td>0</td>\n",
       "      <td>0</td>\n",
       "      <td>0</td>\n",
       "      <td>...</td>\n",
       "      <td>0</td>\n",
       "      <td>0</td>\n",
       "      <td>0</td>\n",
       "      <td>0</td>\n",
       "      <td>4594</td>\n",
       "      <td>1614</td>\n",
       "      <td>1738</td>\n",
       "      <td>2456</td>\n",
       "      <td>9079</td>\n",
       "      <td>9222</td>\n",
       "    </tr>\n",
       "    <tr>\n",
       "      <th>112291</th>\n",
       "      <td>0</td>\n",
       "      <td>0</td>\n",
       "      <td>0</td>\n",
       "      <td>0</td>\n",
       "      <td>0</td>\n",
       "      <td>0</td>\n",
       "      <td>0</td>\n",
       "      <td>0</td>\n",
       "      <td>0</td>\n",
       "      <td>0</td>\n",
       "      <td>...</td>\n",
       "      <td>711</td>\n",
       "      <td>6595</td>\n",
       "      <td>1678</td>\n",
       "      <td>4370</td>\n",
       "      <td>8733</td>\n",
       "      <td>835</td>\n",
       "      <td>1575</td>\n",
       "      <td>847</td>\n",
       "      <td>3808</td>\n",
       "      <td>1157</td>\n",
       "    </tr>\n",
       "    <tr>\n",
       "      <th>112292</th>\n",
       "      <td>0</td>\n",
       "      <td>0</td>\n",
       "      <td>0</td>\n",
       "      <td>0</td>\n",
       "      <td>0</td>\n",
       "      <td>0</td>\n",
       "      <td>0</td>\n",
       "      <td>0</td>\n",
       "      <td>0</td>\n",
       "      <td>0</td>\n",
       "      <td>...</td>\n",
       "      <td>1092</td>\n",
       "      <td>2760</td>\n",
       "      <td>7940</td>\n",
       "      <td>4536</td>\n",
       "      <td>4571</td>\n",
       "      <td>5090</td>\n",
       "      <td>8641</td>\n",
       "      <td>1423</td>\n",
       "      <td>5769</td>\n",
       "      <td>6358</td>\n",
       "    </tr>\n",
       "    <tr>\n",
       "      <th>112293</th>\n",
       "      <td>0</td>\n",
       "      <td>0</td>\n",
       "      <td>0</td>\n",
       "      <td>0</td>\n",
       "      <td>0</td>\n",
       "      <td>0</td>\n",
       "      <td>0</td>\n",
       "      <td>0</td>\n",
       "      <td>0</td>\n",
       "      <td>0</td>\n",
       "      <td>...</td>\n",
       "      <td>1189</td>\n",
       "      <td>7800</td>\n",
       "      <td>4952</td>\n",
       "      <td>6311</td>\n",
       "      <td>3163</td>\n",
       "      <td>4911</td>\n",
       "      <td>3759</td>\n",
       "      <td>259</td>\n",
       "      <td>9617</td>\n",
       "      <td>7274</td>\n",
       "    </tr>\n",
       "  </tbody>\n",
       "</table>\n",
       "<p>112294 rows × 32 columns</p>\n",
       "</div>"
      ],
      "text/plain": [
       "        0   1   2   3   4   5   6   7   8   9   ...    22    23    24    25  \\\n",
       "0        0   0   0   0   0   0   0   0   0   0  ...     0  1937  9032  2871   \n",
       "1        0   0   0   0   0   0   0   0   0   0  ...     0     0     0  8295   \n",
       "2        0   0   0   0   0   0   0   0   0   0  ...     0     0     0     0   \n",
       "3        0   0   0   0   0   0   0   0   0   0  ...     0     0     0     0   \n",
       "4        0   0   0   0   0   0   0   0   0   0  ...     0     0     0  2635   \n",
       "...     ..  ..  ..  ..  ..  ..  ..  ..  ..  ..  ...   ...   ...   ...   ...   \n",
       "112289   0   0   0   0   0   0   0   0   0   0  ...  6574  5751  9648  3989   \n",
       "112290   0   0   0   0   0   0   0   0   0   0  ...     0     0     0     0   \n",
       "112291   0   0   0   0   0   0   0   0   0   0  ...   711  6595  1678  4370   \n",
       "112292   0   0   0   0   0   0   0   0   0   0  ...  1092  2760  7940  4536   \n",
       "112293   0   0   0   0   0   0   0   0   0   0  ...  1189  7800  4952  6311   \n",
       "\n",
       "          26    27    28    29    30    31  \n",
       "0       7413  5675  2946  3291  6368  5800  \n",
       "1       3872  1399  5319  8454  9712  3234  \n",
       "2          0     0  8460  7820   959  9059  \n",
       "3          0     0  9401   106  7350  1363  \n",
       "4       9401  2336  8250  5168  2159  6785  \n",
       "...      ...   ...   ...   ...   ...   ...  \n",
       "112289  6486  1475  3957  1338  8179  1612  \n",
       "112290  4594  1614  1738  2456  9079  9222  \n",
       "112291  8733   835  1575   847  3808  1157  \n",
       "112292  4571  5090  8641  1423  5769  6358  \n",
       "112293  3163  4911  3759   259  9617  7274  \n",
       "\n",
       "[112294 rows x 32 columns]"
      ]
     },
     "execution_count": 40,
     "metadata": {},
     "output_type": "execute_result"
    }
   ],
   "source": [
    "x_new"
   ]
  },
  {
   "cell_type": "code",
   "execution_count": 41,
   "id": "49c7748d",
   "metadata": {},
   "outputs": [],
   "source": [
    "x_new = x_new.to_numpy()"
   ]
  },
  {
   "cell_type": "markdown",
   "id": "61d029aa",
   "metadata": {},
   "source": [
    "### Hyperparameter tuning"
   ]
  },
  {
   "cell_type": "code",
   "execution_count": 45,
   "id": "ce7de162",
   "metadata": {},
   "outputs": [],
   "source": [
    "#Hyperparameter tuning\n",
    "from sklearn.model_selection import GridSearchCV\n",
    "from keras.wrappers.scikit_learn import KerasClassifier\n",
    "\n",
    "learning_rate = [0.001, 0.002, 0.005, 0.01] # 0.001, 0.005, 0.01\n",
    "batch_size = [32, 64, 128] # 16, 24, 32, 64, 128\n",
    "#epocs = [50,70,100]\n",
    "dropout = [0.2, 0.3] # usually <= 0.3, [0, 0.1, 0.2, 0.3]\n",
    "neuron = [32, 64, 128]\n",
    "param_grid = dict(learning_rate=learning_rate, batch_size=batch_size,  dropout=dropout, neuron=neuron)"
   ]
  },
  {
   "cell_type": "code",
   "execution_count": 42,
   "id": "6171cc3e",
   "metadata": {},
   "outputs": [],
   "source": [
    "import tensorflow as tf\n",
    "from keras.models import Sequential\n",
    "from keras.layers import Embedding, Conv1D, MaxPooling1D, Dense, Dropout, Flatten\n",
    "from keras.metrics import Precision, Recall\n",
    "import tensorflow as tf"
   ]
  },
  {
   "cell_type": "code",
   "execution_count": 47,
   "id": "acd77200",
   "metadata": {},
   "outputs": [],
   "source": [
    "def create_model(learning_rate=learning_rate, dropout=dropout, neuron=neuron):\n",
    "    # next we can build the model exactly like we would normally do it\n",
    "    model=Sequential()\n",
    "    #model.add(Embedding(voc_size, embed_size, weights=[embedding_matrix]))\n",
    "    \n",
    "    model.add(Embedding(input_dim=voc_size, output_dim =100 ,input_length=32))\n",
    "    model.add(Conv1D(filters=128, kernel_size=3, activation='relu'))\n",
    "    model.add(MaxPooling1D(pool_size=2))\n",
    "    model.add(Dropout(dropout))\n",
    "\n",
    "    model.add(Conv1D(filters=64, kernel_size=3, activation='relu'))\n",
    "    model.add(MaxPooling1D(pool_size=2))\n",
    "    model.add(Dropout(dropout))\n",
    "\n",
    "# model.add(Conv1D(filters=128, kernel_size=5, activation='relu'))\n",
    "# model.add(MaxPooling1D(pool_size=5))\n",
    "# #model.add(Dropout(0.4))\n",
    "\n",
    "    model.add(Flatten())\n",
    "    model.add(Dense(128, activation='relu'))\n",
    "    model.add(Dropout(dropout))\n",
    "#     model.add(Dense(100, activation='relu'))\n",
    "#     model.add(Dropout(0.5))\n",
    "    model.add(Dense(13, activation='softmax'))\n",
    "    \n",
    "    model.compile(loss='sparse_categorical_crossentropy',\n",
    "                  optimizer= tf.keras.optimizers.Adam(learning_rate=learning_rate),\n",
    "                  metrics=['accuracy'])\n",
    "    # model.summary()\n",
    "    return model"
   ]
  },
  {
   "cell_type": "code",
   "execution_count": 48,
   "id": "631099db",
   "metadata": {},
   "outputs": [
    {
     "name": "stderr",
     "output_type": "stream",
     "text": [
      "<ipython-input-48-2484f0e62136>:1: DeprecationWarning: KerasClassifier is deprecated, use Sci-Keras (https://github.com/adriangb/scikeras) instead.\n",
      "  my_model_history = KerasClassifier(build_fn=create_model, epochs=100, batch_size=batch_size, verbose=3)\n"
     ]
    }
   ],
   "source": [
    "my_model_history = KerasClassifier(build_fn=create_model, epochs=100, batch_size=batch_size, verbose=3)"
   ]
  },
  {
   "cell_type": "code",
   "execution_count": 65,
   "id": "6e9d76c9",
   "metadata": {},
   "outputs": [],
   "source": [
    "#Grid Search fitting in dataset\n",
    "# grid = GridSearchCV(estimator=my_model_history, param_grid=param_grid, n_jobs=-1, cv=3)\n",
    "# grid_result = grid.fit(x_new, y_new)"
   ]
  },
  {
   "cell_type": "code",
   "execution_count": 64,
   "id": "ef5796ed",
   "metadata": {},
   "outputs": [],
   "source": [
    "# print(\"Best: %f using %s\" % (grid_result.best_score_, grid_result.best_params_))\n",
    "# means = grid_result.cv_results_['mean_test_score']\n",
    "# stds = grid_result.cv_results_['std_test_score']\n",
    "# params = grid_result.cv_results_['params']\n",
    "# for mean, stdev, param in zip(means, stds, params):\n",
    "#     print(\"%f (%f) with: %r\" % (mean, stdev, param))"
   ]
  },
  {
   "cell_type": "markdown",
   "id": "588e3ceb",
   "metadata": {},
   "source": [
    "### Model Building"
   ]
  },
  {
   "cell_type": "code",
   "execution_count": 43,
   "id": "1555d7b1",
   "metadata": {
    "scrolled": true
   },
   "outputs": [
    {
     "name": "stdout",
     "output_type": "stream",
     "text": [
      "Model: \"sequential_1\"\n",
      "_________________________________________________________________\n",
      " Layer (type)                Output Shape              Param #   \n",
      "=================================================================\n",
      " embedding (Embedding)       (None, 32, 100)           1000000   \n",
      "                                                                 \n",
      " conv1d (Conv1D)             (None, 30, 64)            19264     \n",
      "                                                                 \n",
      " max_pooling1d (MaxPooling1D  (None, 15, 64)           0         \n",
      " )                                                               \n",
      "                                                                 \n",
      " dropout (Dropout)           (None, 15, 64)            0         \n",
      "                                                                 \n",
      " conv1d_1 (Conv1D)           (None, 13, 64)            12352     \n",
      "                                                                 \n",
      " max_pooling1d_1 (MaxPooling  (None, 6, 64)            0         \n",
      " 1D)                                                             \n",
      "                                                                 \n",
      " dropout_1 (Dropout)         (None, 6, 64)             0         \n",
      "                                                                 \n",
      " flatten (Flatten)           (None, 384)               0         \n",
      "                                                                 \n",
      " dense (Dense)               (None, 128)               49280     \n",
      "                                                                 \n",
      " dropout_2 (Dropout)         (None, 128)               0         \n",
      "                                                                 \n",
      " dense_1 (Dense)             (None, 128)               16512     \n",
      "                                                                 \n",
      " dropout_3 (Dropout)         (None, 128)               0         \n",
      "                                                                 \n",
      " dense_2 (Dense)             (None, 13)                1677      \n",
      "                                                                 \n",
      "=================================================================\n",
      "Total params: 1,099,085\n",
      "Trainable params: 1,099,085\n",
      "Non-trainable params: 0\n",
      "_________________________________________________________________\n"
     ]
    }
   ],
   "source": [
    "# Creating model 1: CNN - LeNet-5\n",
    "model=Sequential()\n",
    "#model.add(Embedding(voc_size, embed_size, weights=[embedding_matrix]))\n",
    "\n",
    "model.add(Embedding(input_dim=voc_size, output_dim =100 ,input_length=32))\n",
    "model.add(Conv1D(filters=64, kernel_size=3, activation='relu'))\n",
    "model.add(MaxPooling1D(pool_size=2))\n",
    "model.add(Dropout(0.2))\n",
    "\n",
    "model.add(Conv1D(filters=64, kernel_size=3, activation='relu'))\n",
    "model.add(MaxPooling1D(pool_size=2))\n",
    "model.add(Dropout(0.2))\n",
    "\n",
    "# model.add(Conv1D(filters=128, kernel_size=5, activation='relu'))\n",
    "# model.add(MaxPooling1D(pool_size=5))\n",
    "# #model.add(Dropout(0.4))\n",
    "\n",
    "model.add(Flatten())\n",
    "model.add(Dense(128, activation='relu'))\n",
    "model.add(Dropout(0.2))\n",
    "model.add(Dense(128, activation='relu'))\n",
    "model.add(Dropout(0.2))\n",
    "model.add(Dense(13, activation='softmax'))\n",
    "\n",
    "#model.add(Dense(6,activation='softmax'))\n",
    "model.compile(loss='sparse_categorical_crossentropy',optimizer= tf.keras.optimizers.Adam(learning_rate=0.001),\n",
    "              metrics=['accuracy'])\n",
    "model.summary()"
   ]
  },
  {
   "cell_type": "markdown",
   "id": "cf852a72",
   "metadata": {},
   "source": [
    "##### Training CNN model"
   ]
  },
  {
   "cell_type": "code",
   "execution_count": null,
   "id": "b93690c8",
   "metadata": {
    "scrolled": true
   },
   "outputs": [
    {
     "name": "stdout",
     "output_type": "stream",
     "text": [
      "Epoch 1/50\n",
      "1754/1755 [============================>.] - ETA: 0s - loss: 2.4034 - accuracy: 0.1447\n",
      "Epoch 00001: val_loss improved from inf to 2.14759, saving model to weights_CNN.h5\n",
      "1755/1755 [==============================] - 38s 21ms/step - loss: 2.4033 - accuracy: 0.1448 - val_loss: 2.1476 - val_accuracy: 0.2403\n",
      "Epoch 2/50\n",
      "1753/1755 [============================>.] - ETA: 0s - loss: 2.2982 - accuracy: 0.1800\n",
      "Epoch 00002: val_loss improved from 2.14759 to 2.01426, saving model to weights_CNN.h5\n",
      "1755/1755 [==============================] - 37s 21ms/step - loss: 2.2982 - accuracy: 0.1800 - val_loss: 2.0143 - val_accuracy: 0.2872\n",
      "Epoch 3/50\n",
      "1755/1755 [==============================] - ETA: 0s - loss: 2.2276 - accuracy: 0.2042\n",
      "Epoch 00003: val_loss improved from 2.01426 to 1.88445, saving model to weights_CNN.h5\n",
      "1755/1755 [==============================] - 35s 20ms/step - loss: 2.2276 - accuracy: 0.2042 - val_loss: 1.8845 - val_accuracy: 0.3481\n",
      "Epoch 4/50\n",
      "1755/1755 [==============================] - ETA: 0s - loss: 2.1397 - accuracy: 0.2343\n",
      "Epoch 00004: val_loss improved from 1.88445 to 1.80459, saving model to weights_CNN.h5\n",
      "1755/1755 [==============================] - 36s 20ms/step - loss: 2.1397 - accuracy: 0.2343 - val_loss: 1.8046 - val_accuracy: 0.3522\n",
      "Epoch 5/50\n",
      "1754/1755 [============================>.] - ETA: 0s - loss: 2.0332 - accuracy: 0.2723\n",
      "Epoch 00005: val_loss improved from 1.80459 to 1.72415, saving model to weights_CNN.h5\n",
      "1755/1755 [==============================] - 47s 27ms/step - loss: 2.0332 - accuracy: 0.2723 - val_loss: 1.7241 - val_accuracy: 0.3916\n",
      "Epoch 6/50\n",
      "1755/1755 [==============================] - ETA: 0s - loss: 1.9297 - accuracy: 0.3059\n",
      "Epoch 00006: val_loss improved from 1.72415 to 1.66583, saving model to weights_CNN.h5\n",
      "1755/1755 [==============================] - 26s 15ms/step - loss: 1.9297 - accuracy: 0.3059 - val_loss: 1.6658 - val_accuracy: 0.4197\n",
      "Epoch 7/50\n",
      "1754/1755 [============================>.] - ETA: 0s - loss: 1.8352 - accuracy: 0.3376\n",
      "Epoch 00007: val_loss improved from 1.66583 to 1.56682, saving model to weights_CNN.h5\n",
      "1755/1755 [==============================] - 25s 14ms/step - loss: 1.8352 - accuracy: 0.3376 - val_loss: 1.5668 - val_accuracy: 0.4831\n",
      "Epoch 8/50\n",
      "1755/1755 [==============================] - ETA: 0s - loss: 1.7502 - accuracy: 0.3686\n",
      "Epoch 00008: val_loss improved from 1.56682 to 1.51014, saving model to weights_CNN.h5\n",
      "1755/1755 [==============================] - 25s 14ms/step - loss: 1.7502 - accuracy: 0.3686 - val_loss: 1.5101 - val_accuracy: 0.4575\n",
      "Epoch 9/50\n",
      "1754/1755 [============================>.] - ETA: 0s - loss: 1.6788 - accuracy: 0.3930\n",
      "Epoch 00009: val_loss improved from 1.51014 to 1.46256, saving model to weights_CNN.h5\n",
      "1755/1755 [==============================] - 29s 16ms/step - loss: 1.6789 - accuracy: 0.3929 - val_loss: 1.4626 - val_accuracy: 0.4837\n",
      "Epoch 10/50\n",
      "1754/1755 [============================>.] - ETA: 0s - loss: 1.6130 - accuracy: 0.4169\n",
      "Epoch 00010: val_loss improved from 1.46256 to 1.39942, saving model to weights_CNN.h5\n",
      "1755/1755 [==============================] - 33s 19ms/step - loss: 1.6130 - accuracy: 0.4169 - val_loss: 1.3994 - val_accuracy: 0.5044\n",
      "Epoch 11/50\n",
      "1752/1755 [============================>.] - ETA: 0s - loss: 1.5514 - accuracy: 0.4398\n",
      "Epoch 00011: val_loss improved from 1.39942 to 1.35711, saving model to weights_CNN.h5\n",
      "1755/1755 [==============================] - 28s 16ms/step - loss: 1.5514 - accuracy: 0.4398 - val_loss: 1.3571 - val_accuracy: 0.5022\n",
      "Epoch 12/50\n",
      "1752/1755 [============================>.] - ETA: 0s - loss: 1.5028 - accuracy: 0.4574\n",
      "Epoch 00012: val_loss improved from 1.35711 to 1.30315, saving model to weights_CNN.h5\n",
      "1755/1755 [==============================] - 27s 15ms/step - loss: 1.5029 - accuracy: 0.4574 - val_loss: 1.3032 - val_accuracy: 0.5247\n",
      "Epoch 13/50\n",
      "1754/1755 [============================>.] - ETA: 0s - loss: 1.4430 - accuracy: 0.4804\n",
      "Epoch 00013: val_loss improved from 1.30315 to 1.26056, saving model to weights_CNN.h5\n",
      "1755/1755 [==============================] - 48s 27ms/step - loss: 1.4431 - accuracy: 0.4804 - val_loss: 1.2606 - val_accuracy: 0.5462\n",
      "Epoch 14/50\n",
      "1753/1755 [============================>.] - ETA: 0s - loss: 1.4016 - accuracy: 0.4967\n",
      "Epoch 00014: val_loss improved from 1.26056 to 1.24068, saving model to weights_CNN.h5\n",
      "1755/1755 [==============================] - 44s 25ms/step - loss: 1.4016 - accuracy: 0.4967 - val_loss: 1.2407 - val_accuracy: 0.5494\n",
      "Epoch 15/50\n",
      "1754/1755 [============================>.] - ETA: 0s - loss: 1.3597 - accuracy: 0.5131\n",
      "Epoch 00015: val_loss improved from 1.24068 to 1.20960, saving model to weights_CNN.h5\n",
      "1755/1755 [==============================] - 38s 22ms/step - loss: 1.3597 - accuracy: 0.5131 - val_loss: 1.2096 - val_accuracy: 0.5603\n",
      "Epoch 16/50\n",
      "1753/1755 [============================>.] - ETA: 0s - loss: 1.3183 - accuracy: 0.5276\n",
      "Epoch 00016: val_loss improved from 1.20960 to 1.16465, saving model to weights_CNN.h5\n",
      "1755/1755 [==============================] - 46s 26ms/step - loss: 1.3184 - accuracy: 0.5276 - val_loss: 1.1646 - val_accuracy: 0.6194\n",
      "Epoch 17/50\n",
      "1754/1755 [============================>.] - ETA: 0s - loss: 1.2850 - accuracy: 0.5404\n",
      "Epoch 00017: val_loss improved from 1.16465 to 1.15024, saving model to weights_CNN.h5\n",
      "1755/1755 [==============================] - 34s 19ms/step - loss: 1.2851 - accuracy: 0.5404 - val_loss: 1.1502 - val_accuracy: 0.5950\n",
      "Epoch 18/50\n",
      "1753/1755 [============================>.] - ETA: 0s - loss: 1.2540 - accuracy: 0.5531\n",
      "Epoch 00018: val_loss improved from 1.15024 to 1.11052, saving model to weights_CNN.h5\n",
      "1755/1755 [==============================] - 25s 14ms/step - loss: 1.2542 - accuracy: 0.5531 - val_loss: 1.1105 - val_accuracy: 0.6053\n",
      "Epoch 19/50\n",
      "1754/1755 [============================>.] - ETA: 0s - loss: 1.2255 - accuracy: 0.5636\n",
      "Epoch 00019: val_loss improved from 1.11052 to 1.07440, saving model to weights_CNN.h5\n",
      "1755/1755 [==============================] - 25s 14ms/step - loss: 1.2255 - accuracy: 0.5636 - val_loss: 1.0744 - val_accuracy: 0.6178\n",
      "Epoch 20/50\n",
      "1754/1755 [============================>.] - ETA: 0s - loss: 1.1921 - accuracy: 0.5759\n",
      "Epoch 00020: val_loss improved from 1.07440 to 1.06316, saving model to weights_CNN.h5\n",
      "1755/1755 [==============================] - 25s 14ms/step - loss: 1.1921 - accuracy: 0.5759 - val_loss: 1.0632 - val_accuracy: 0.6256\n",
      "Epoch 21/50\n",
      "1753/1755 [============================>.] - ETA: 0s - loss: 1.1692 - accuracy: 0.5866\n",
      "Epoch 00021: val_loss improved from 1.06316 to 1.03844, saving model to weights_CNN.h5\n",
      "1755/1755 [==============================] - 27s 15ms/step - loss: 1.1692 - accuracy: 0.5866 - val_loss: 1.0384 - val_accuracy: 0.6413\n",
      "Epoch 22/50\n",
      "1755/1755 [==============================] - ETA: 0s - loss: 1.1429 - accuracy: 0.5945\n",
      "Epoch 00022: val_loss improved from 1.03844 to 1.02074, saving model to weights_CNN.h5\n",
      "1755/1755 [==============================] - 28s 16ms/step - loss: 1.1429 - accuracy: 0.5945 - val_loss: 1.0207 - val_accuracy: 0.6413\n",
      "Epoch 23/50\n",
      "1753/1755 [============================>.] - ETA: 0s - loss: 1.1192 - accuracy: 0.6051\n",
      "Epoch 00023: val_loss improved from 1.02074 to 0.99397, saving model to weights_CNN.h5\n",
      "1755/1755 [==============================] - 28s 16ms/step - loss: 1.1191 - accuracy: 0.6051 - val_loss: 0.9940 - val_accuracy: 0.6566\n",
      "Epoch 24/50\n",
      "1755/1755 [==============================] - ETA: 0s - loss: 1.0978 - accuracy: 0.6150\n",
      "Epoch 00024: val_loss did not improve from 0.99397\n",
      "1755/1755 [==============================] - 33s 19ms/step - loss: 1.0978 - accuracy: 0.6150 - val_loss: 0.9957 - val_accuracy: 0.6584\n",
      "Epoch 25/50\n",
      "1754/1755 [============================>.] - ETA: 0s - loss: 1.0824 - accuracy: 0.6195\n",
      "Epoch 00025: val_loss improved from 0.99397 to 0.95902, saving model to weights_CNN.h5\n",
      "1755/1755 [==============================] - 40s 23ms/step - loss: 1.0824 - accuracy: 0.6195 - val_loss: 0.9590 - val_accuracy: 0.6662\n",
      "Epoch 26/50\n",
      "1752/1755 [============================>.] - ETA: 0s - loss: 1.0629 - accuracy: 0.6267\n",
      "Epoch 00026: val_loss did not improve from 0.95902\n",
      "1755/1755 [==============================] - 34s 19ms/step - loss: 1.0628 - accuracy: 0.6267 - val_loss: 0.9632 - val_accuracy: 0.6581\n"
     ]
    },
    {
     "name": "stdout",
     "output_type": "stream",
     "text": [
      "Epoch 27/50\n",
      "1755/1755 [==============================] - ETA: 0s - loss: 1.0443 - accuracy: 0.6345\n",
      "Epoch 00027: val_loss improved from 0.95902 to 0.94382, saving model to weights_CNN.h5\n",
      "1755/1755 [==============================] - 33s 19ms/step - loss: 1.0443 - accuracy: 0.6345 - val_loss: 0.9438 - val_accuracy: 0.6728\n",
      "Epoch 28/50\n",
      "1754/1755 [============================>.] - ETA: 0s - loss: 1.0273 - accuracy: 0.6411\n",
      "Epoch 00028: val_loss improved from 0.94382 to 0.92872, saving model to weights_CNN.h5\n",
      "1755/1755 [==============================] - 52s 30ms/step - loss: 1.0273 - accuracy: 0.6411 - val_loss: 0.9287 - val_accuracy: 0.6816\n",
      "Epoch 29/50\n",
      "1752/1755 [============================>.] - ETA: 0s - loss: 1.0160 - accuracy: 0.6450\n",
      "Epoch 00029: val_loss improved from 0.92872 to 0.91927, saving model to weights_CNN.h5\n",
      "1755/1755 [==============================] - 33s 19ms/step - loss: 1.0158 - accuracy: 0.6451 - val_loss: 0.9193 - val_accuracy: 0.7234\n",
      "Epoch 30/50\n",
      "1754/1755 [============================>.] - ETA: 0s - loss: 0.9955 - accuracy: 0.6534\n",
      "Epoch 00030: val_loss improved from 0.91927 to 0.88191, saving model to weights_CNN.h5\n",
      "1755/1755 [==============================] - 28s 16ms/step - loss: 0.9954 - accuracy: 0.6535 - val_loss: 0.8819 - val_accuracy: 0.7038\n",
      "Epoch 31/50\n",
      "1754/1755 [============================>.] - ETA: 0s - loss: 0.9886 - accuracy: 0.6574\n",
      "Epoch 00031: val_loss improved from 0.88191 to 0.87321, saving model to weights_CNN.h5\n",
      "1755/1755 [==============================] - 41s 23ms/step - loss: 0.9886 - accuracy: 0.6575 - val_loss: 0.8732 - val_accuracy: 0.6963\n",
      "Epoch 32/50\n",
      "1754/1755 [============================>.] - ETA: 0s - loss: 0.9740 - accuracy: 0.6621\n",
      "Epoch 00032: val_loss improved from 0.87321 to 0.87258, saving model to weights_CNN.h5\n",
      "1755/1755 [==============================] - 53s 30ms/step - loss: 0.9740 - accuracy: 0.6621 - val_loss: 0.8726 - val_accuracy: 0.7006\n",
      "Epoch 33/50\n",
      "1753/1755 [============================>.] - ETA: 0s - loss: 0.9630 - accuracy: 0.6663\n",
      "Epoch 00033: val_loss improved from 0.87258 to 0.86860, saving model to weights_CNN.h5\n",
      "1755/1755 [==============================] - 40s 23ms/step - loss: 0.9632 - accuracy: 0.6662 - val_loss: 0.8686 - val_accuracy: 0.7125\n",
      "Epoch 34/50\n",
      "1754/1755 [============================>.] - ETA: 0s - loss: 0.9484 - accuracy: 0.6725\n",
      "Epoch 00034: val_loss did not improve from 0.86860\n",
      "1755/1755 [==============================] - 42s 24ms/step - loss: 0.9483 - accuracy: 0.6725 - val_loss: 0.8714 - val_accuracy: 0.7063\n",
      "Epoch 35/50\n",
      "1753/1755 [============================>.] - ETA: 0s - loss: 0.9368 - accuracy: 0.6751\n",
      "Epoch 00035: val_loss improved from 0.86860 to 0.84221, saving model to weights_CNN.h5\n",
      "1755/1755 [==============================] - 39s 22ms/step - loss: 0.9367 - accuracy: 0.6751 - val_loss: 0.8422 - val_accuracy: 0.7009\n",
      "Epoch 36/50\n",
      "1755/1755 [==============================] - ETA: 0s - loss: 0.9288 - accuracy: 0.6790\n",
      "Epoch 00036: val_loss improved from 0.84221 to 0.82359, saving model to weights_CNN.h5\n",
      "1755/1755 [==============================] - 46s 26ms/step - loss: 0.9288 - accuracy: 0.6790 - val_loss: 0.8236 - val_accuracy: 0.7469\n",
      "Epoch 37/50\n",
      "1755/1755 [==============================] - ETA: 0s - loss: 0.9140 - accuracy: 0.6850\n",
      "Epoch 00037: val_loss improved from 0.82359 to 0.81748, saving model to weights_CNN.h5\n",
      "1755/1755 [==============================] - 41s 24ms/step - loss: 0.9140 - accuracy: 0.6850 - val_loss: 0.8175 - val_accuracy: 0.7200\n",
      "Epoch 38/50\n",
      "1754/1755 [============================>.] - ETA: 0s - loss: 0.9075 - accuracy: 0.6885\n",
      "Epoch 00038: val_loss improved from 0.81748 to 0.79579, saving model to weights_CNN.h5\n",
      "1755/1755 [==============================] - 39s 22ms/step - loss: 0.9076 - accuracy: 0.6885 - val_loss: 0.7958 - val_accuracy: 0.7175\n",
      "Epoch 39/50\n",
      "1754/1755 [============================>.] - ETA: 0s - loss: 0.9051 - accuracy: 0.6888\n",
      "Epoch 00039: val_loss did not improve from 0.79579\n",
      "1755/1755 [==============================] - 53s 30ms/step - loss: 0.9051 - accuracy: 0.6888 - val_loss: 0.8114 - val_accuracy: 0.7100\n",
      "Epoch 40/50\n",
      "1753/1755 [============================>.] - ETA: 0s - loss: 0.8944 - accuracy: 0.6916\n",
      "Epoch 00040: val_loss did not improve from 0.79579\n",
      "1755/1755 [==============================] - 47s 27ms/step - loss: 0.8944 - accuracy: 0.6916 - val_loss: 0.8091 - val_accuracy: 0.7284\n",
      "Epoch 41/50\n",
      "1754/1755 [============================>.] - ETA: 0s - loss: 0.8790 - accuracy: 0.6991\n",
      "Epoch 00041: val_loss improved from 0.79579 to 0.78573, saving model to weights_CNN.h5\n",
      "1755/1755 [==============================] - 46s 26ms/step - loss: 0.8790 - accuracy: 0.6991 - val_loss: 0.7857 - val_accuracy: 0.7272\n",
      "Epoch 42/50\n",
      "1753/1755 [============================>.] - ETA: 0s - loss: 0.8710 - accuracy: 0.7013 ETA: 0s - loss: 0.8708 - ac\n",
      "Epoch 00042: val_loss improved from 0.78573 to 0.76591, saving model to weights_CNN.h5\n",
      "1755/1755 [==============================] - 50s 28ms/step - loss: 0.8708 - accuracy: 0.7014 - val_loss: 0.7659 - val_accuracy: 0.7403\n",
      "Epoch 43/50\n",
      "1754/1755 [============================>.] - ETA: 0s - loss: 0.8678 - accuracy: 0.7032\n",
      "Epoch 00043: val_loss did not improve from 0.76591\n",
      "1755/1755 [==============================] - 51s 29ms/step - loss: 0.8679 - accuracy: 0.7032 - val_loss: 0.7663 - val_accuracy: 0.7469\n",
      "Epoch 44/50\n",
      "1755/1755 [==============================] - ETA: 0s - loss: 0.8547 - accuracy: 0.7077\n",
      "Epoch 00044: val_loss did not improve from 0.76591\n",
      "1755/1755 [==============================] - 47s 27ms/step - loss: 0.8547 - accuracy: 0.7077 - val_loss: 0.7723 - val_accuracy: 0.7359\n",
      "Epoch 45/50\n",
      " 582/1755 [========>.....................] - ETA: 27s - loss: 0.8219 - accuracy: 0.7199"
     ]
    }
   ],
   "source": [
    "# Training CNN model\n",
    "model_save = ModelCheckpoint('weights_CNN.h5', save_best_only = True, save_weights_only = True, \n",
    "                             monitor = 'val_loss', \n",
    "                             mode = 'min', verbose = 1)\n",
    "history = model.fit(x_new, y_new,validation_data=(X_val,y_val),epochs=50,batch_size=64,callbacks = [model_save])"
   ]
  },
  {
   "cell_type": "markdown",
   "id": "ec111153",
   "metadata": {},
   "source": [
    "##### Plotting Model Accuracy and Loss"
   ]
  },
  {
   "cell_type": "code",
   "execution_count": 45,
   "id": "0a4448c8",
   "metadata": {},
   "outputs": [
    {
     "name": "stdout",
     "output_type": "stream",
     "text": [
      "dict_keys(['loss', 'accuracy', 'val_loss', 'val_accuracy'])\n"
     ]
    },
    {
     "data": {
      "image/png": "[encoded data removed]",
      "text/plain": [
       "<Figure size 432x288 with 1 Axes>"
      ]
     },
     "metadata": {
      "needs_background": "light"
     },
     "output_type": "display_data"
    },
    {
     "data": {
      "image/png": "[encoded data removed]",
      "text/plain": [
       "<Figure size 432x288 with 1 Axes>"
      ]
     },
     "metadata": {
      "needs_background": "light"
     },
     "output_type": "display_data"
    }
   ],
   "source": [
    "#Plotting Model Accuracy and Loss\n",
    "print(history.history.keys())\n",
    "#  \"Accuracy\"\n",
    "#plt.subplot(1, 2, 1)\n",
    "plt.plot(history.history['accuracy'])\n",
    "plt.plot(history.history['val_accuracy'])\n",
    "plt.title('model accuracy')\n",
    "plt.ylabel('accuracy')\n",
    "plt.xlabel('epoch')\n",
    "plt.legend(['train', 'validation'], loc='upper left')\n",
    "plt.show()\n",
    "# \"Loss\"\n",
    "#plt.subplot(1, 2, 2)\n",
    "plt.plot(history.history['loss'])\n",
    "plt.plot(history.history['val_loss'])\n",
    "plt.title('model loss')\n",
    "plt.ylabel('loss')\n",
    "plt.xlabel('epoch')\n",
    "plt.legend(['train', 'validation'], loc='upper left')\n",
    "plt.show()"
   ]
  },
  {
   "cell_type": "code",
   "execution_count": 46,
   "id": "7f001bda",
   "metadata": {},
   "outputs": [],
   "source": [
    "#Load the best weights\n",
    "model.load_weights('weights_CNN.h5')"
   ]
  },
  {
   "cell_type": "markdown",
   "id": "1259ec1f",
   "metadata": {},
   "source": [
    "##### printing y_pred for x_test "
   ]
  },
  {
   "cell_type": "code",
   "execution_count": 47,
   "id": "d8e06959",
   "metadata": {},
   "outputs": [
    {
     "name": "stdout",
     "output_type": "stream",
     "text": [
      "[ 2  2  7 ...  1 11  7]\n"
     ]
    }
   ],
   "source": [
    "#y_pred=model.predict_classes(X_test)\n",
    "#print(y_pred)\n",
    "\n",
    "predict_x=model.predict(X_test) \n",
    "y_pred=np.argmax(predict_x,axis=1)\n",
    "print(y_pred)"
   ]
  },
  {
   "cell_type": "markdown",
   "id": "001afdff",
   "metadata": {},
   "source": [
    "#### Accuracy of test prediction"
   ]
  },
  {
   "cell_type": "code",
   "execution_count": 48,
   "id": "044e2717",
   "metadata": {},
   "outputs": [
    {
     "name": "stdout",
     "output_type": "stream",
     "text": [
      "0.756625\n"
     ]
    }
   ],
   "source": [
    "#Accuracy score\n",
    "print(accuracy_score(y_test,y_pred))"
   ]
  },
  {
   "cell_type": "markdown",
   "id": "fd3dc9e6",
   "metadata": {},
   "source": [
    "#### Classification report"
   ]
  },
  {
   "cell_type": "code",
   "execution_count": 49,
   "id": "c476ee07",
   "metadata": {
    "scrolled": true
   },
   "outputs": [
    {
     "name": "stdout",
     "output_type": "stream",
     "text": [
      "              precision    recall  f1-score   support\n",
      "\n",
      "           0    0.55000   0.57895   0.56410        19\n",
      "           1    0.76190   0.51613   0.61538        31\n",
      "           2    0.14868   0.76543   0.24900       162\n",
      "           3    0.72441   0.56442   0.63448       163\n",
      "           4    0.83688   0.69822   0.76129       338\n",
      "           5    0.78858   0.85992   0.82271      1028\n",
      "           6    0.91176   0.80970   0.85771       268\n",
      "           7    0.88146   0.76115   0.81690       762\n",
      "           8    0.80935   0.76609   0.78713      1740\n",
      "           9    0.65734   0.53409   0.58934       352\n",
      "          10    0.91337   0.70554   0.79612      1046\n",
      "          11    0.73265   0.67059   0.70025       425\n",
      "          12    0.85978   0.80972   0.83400      1666\n",
      "\n",
      "    accuracy                        0.75663      8000\n",
      "   macro avg    0.73663   0.69538   0.69449      8000\n",
      "weighted avg    0.81557   0.75662   0.77822      8000\n",
      "\n"
     ]
    }
   ],
   "source": [
    "#Classification report\n",
    "print(classification_report(y_test, y_pred, digits=5))"
   ]
  },
  {
   "cell_type": "markdown",
   "id": "9b51b1c8",
   "metadata": {},
   "source": [
    "##### Confusion Matrix"
   ]
  },
  {
   "cell_type": "code",
   "execution_count": 50,
   "id": "681b5527",
   "metadata": {},
   "outputs": [
    {
     "name": "stdout",
     "output_type": "stream",
     "text": [
      "Confusion Matrix\n",
      "AxesSubplot(0.125,0.125;0.62x0.755)\n"
     ]
    },
    {
     "data": {
      "image/png": "[encoded data removed]",
      "text/plain": [
       "<Figure size 432x288 with 2 Axes>"
      ]
     },
     "metadata": {
      "needs_background": "light"
     },
     "output_type": "display_data"
    }
   ],
   "source": [
    "#Confusion Matrix\n",
    "print('Confusion Matrix')\n",
    "print(sns.heatmap(confusion_matrix(y_test, y_pred),annot=True,fmt=\"d\"))"
   ]
  },
  {
   "cell_type": "markdown",
   "id": "1f98ab9a",
   "metadata": {},
   "source": [
    "#### Confusion matrix diagonal entries after normalization"
   ]
  },
  {
   "cell_type": "code",
   "execution_count": 60,
   "id": "21dc63ba",
   "metadata": {},
   "outputs": [
    {
     "data": {
      "text/plain": [
       "array([0.57894737, 0.51612903, 0.7654321 , 0.56441718, 0.69822485,\n",
       "       0.85992218, 0.80970149, 0.76115486, 0.76609195, 0.53409091,\n",
       "       0.70554493, 0.67058824, 0.80972389])"
      ]
     },
     "execution_count": 60,
     "metadata": {},
     "output_type": "execute_result"
    }
   ],
   "source": [
    "from sklearn.metrics import confusion_matrix\n",
    "import numpy as np\n",
    "# Get the confusion matrix\n",
    "cm = confusion_matrix(y_test, y_pred)\n",
    "#Now the normalize the diagonal entries\n",
    "cm = cm.astype('float') / cm.sum(axis=1)[:, np.newaxis]\n",
    "#The diagonal entries are the accuracies of each class\n",
    "cm.diagonal()"
   ]
  },
  {
   "cell_type": "code",
   "execution_count": 61,
   "id": "20b389e9",
   "metadata": {},
   "outputs": [
    {
     "data": {
      "text/plain": [
       "numpy.ndarray"
      ]
     },
     "execution_count": 61,
     "metadata": {},
     "output_type": "execute_result"
    }
   ],
   "source": [
    "cm_diag = cm.diagonal()\n",
    "type(cm_diag)"
   ]
  },
  {
   "cell_type": "markdown",
   "id": "347665de",
   "metadata": {},
   "source": [
    "##### Mapping of target classes using label-encoder"
   ]
  },
  {
   "cell_type": "code",
   "execution_count": 62,
   "id": "9e2ecc63",
   "metadata": {},
   "outputs": [
    {
     "name": "stdout",
     "output_type": "stream",
     "text": [
      "{'anger': 0, 'boredom': 1, 'empty': 2, 'enthusiasm': 3, 'fun': 4, 'happiness': 5, 'hate': 6, 'love': 7, 'neutral': 8, 'relief': 9, 'sadness': 10, 'surprise': 11, 'worry': 12}\n"
     ]
    }
   ],
   "source": [
    "#Mapping of target classes using label-encoder\n",
    "le_name_mapping = dict(zip(label_encoder.classes_, label_encoder.transform(label_encoder.classes_)))\n",
    "print(le_name_mapping)"
   ]
  },
  {
   "cell_type": "markdown",
   "id": "a70f5790",
   "metadata": {},
   "source": [
    "##### Accuracy Class-wise"
   ]
  },
  {
   "cell_type": "code",
   "execution_count": 63,
   "id": "aeb99d92",
   "metadata": {},
   "outputs": [
    {
     "data": {
      "text/plain": [
       "{'anger': 0.5789473684210527,\n",
       " 'boredom': 0.5161290322580645,\n",
       " 'empty': 0.7654320987654321,\n",
       " 'enthusiasm': 0.5644171779141104,\n",
       " 'fun': 0.6982248520710059,\n",
       " 'happiness': 0.8599221789883269,\n",
       " 'hate': 0.8097014925373134,\n",
       " 'love': 0.7611548556430446,\n",
       " 'neutral': 0.7660919540229885,\n",
       " 'relief': 0.5340909090909091,\n",
       " 'sadness': 0.7055449330783938,\n",
       " 'surprise': 0.6705882352941176,\n",
       " 'worry': 0.8097238895558223}"
      ]
     },
     "execution_count": 63,
     "metadata": {},
     "output_type": "execute_result"
    }
   ],
   "source": [
    "label = dict(zip(label_encoder.classes_,cm_diag ))\n",
    "label # printing class-wise accuracy"
   ]
  },
  {
   "cell_type": "code",
   "execution_count": 59,
   "id": "724aa561",
   "metadata": {},
   "outputs": [],
   "source": [
    "#Mapping of target classes using label-encoder\n",
    "# le_name_mapping = dict(zip(label_encoder.classes_, label_encoder.transform(label_encoder.classes_)))\n",
    "# print(le_name_mapping)"
   ]
  },
  {
   "cell_type": "markdown",
   "id": "d5cf97c1",
   "metadata": {},
   "source": [
    "#### Making prediction with examples"
   ]
  },
  {
   "cell_type": "code",
   "execution_count": 52,
   "id": "5d7c6d2c",
   "metadata": {},
   "outputs": [],
   "source": [
    "#Example\n",
    "def predict_emotion(stri):\n",
    "    review = re.sub('[^a-zA-Z]', ' ', stri)\n",
    "    review = review.lower()\n",
    "    review = review.split()\n",
    "    review = [ps.stem(word) for word in review if not word in stopwords.words('english')]\n",
    "    review = ' '.join(review)\n",
    "    onehot_repr = [one_hot(review,voc_size)] \n",
    "    embed = pad_sequences(onehot_repr, padding='pre', maxlen=sent_length)\n",
    "    predicti = model.predict(embed)\n",
    "    return label_encoder.classes_[np.argmax(predicti)]"
   ]
  },
  {
   "cell_type": "markdown",
   "id": "ba9ab8a8",
   "metadata": {},
   "source": [
    "###### predict_emotion('I am feeling so joyful today')"
   ]
  },
  {
   "cell_type": "code",
   "execution_count": 53,
   "id": "07800f40",
   "metadata": {},
   "outputs": [
    {
     "data": {
      "text/plain": [
       "'worry'"
      ]
     },
     "execution_count": 53,
     "metadata": {},
     "output_type": "execute_result"
    }
   ],
   "source": [
    "predict_emotion('I am feeling so joyful today')"
   ]
  },
  {
   "cell_type": "markdown",
   "id": "7721172d",
   "metadata": {},
   "source": [
    "###### predict_emotion('He is an arrogant and rude person')"
   ]
  },
  {
   "cell_type": "code",
   "execution_count": 54,
   "id": "cd11ddf6",
   "metadata": {},
   "outputs": [
    {
     "data": {
      "text/plain": [
       "'empty'"
      ]
     },
     "execution_count": 54,
     "metadata": {},
     "output_type": "execute_result"
    }
   ],
   "source": [
    "predict_emotion('He is an arrogant and rude person')"
   ]
  },
  {
   "cell_type": "markdown",
   "id": "4dbaf0f2",
   "metadata": {},
   "source": [
    "###### predict_emotion('The teacher is intimidating and scary')"
   ]
  },
  {
   "cell_type": "code",
   "execution_count": 55,
   "id": "693287e1",
   "metadata": {},
   "outputs": [
    {
     "data": {
      "text/plain": [
       "'surprise'"
      ]
     },
     "execution_count": 55,
     "metadata": {},
     "output_type": "execute_result"
    }
   ],
   "source": [
    "predict_emotion('The teacher is intimidating and scary')"
   ]
  },
  {
   "cell_type": "markdown",
   "id": "b3362fe5",
   "metadata": {},
   "source": [
    "###### predict_emotion('I just lost my purse.')"
   ]
  },
  {
   "cell_type": "code",
   "execution_count": 56,
   "id": "7165505a",
   "metadata": {},
   "outputs": [
    {
     "data": {
      "text/plain": [
       "'empty'"
      ]
     },
     "execution_count": 56,
     "metadata": {},
     "output_type": "execute_result"
    }
   ],
   "source": [
    "predict_emotion('I just lost my purse.')"
   ]
  },
  {
   "cell_type": "markdown",
   "id": "4d87e303",
   "metadata": {},
   "source": [
    "###### predict_emotion('I just lost my purse.')"
   ]
  },
  {
   "cell_type": "code",
   "execution_count": 57,
   "id": "95cbc25b",
   "metadata": {},
   "outputs": [
    {
     "data": {
      "text/plain": [
       "'love'"
      ]
     },
     "execution_count": 57,
     "metadata": {},
     "output_type": "execute_result"
    }
   ],
   "source": [
    "predict_emotion('I am very happy that tomorrow will be a holiday')"
   ]
  }
 ],
 "metadata": {
  "kernelspec": {
   "display_name": "Python 3",
   "language": "python",
   "name": "python3"
  },
  "language_info": {
   "codemirror_mode": {
    "name": "ipython",
    "version": 3
   },
   "file_extension": ".py",
   "mimetype": "text/x-python",
   "name": "python",
   "nbconvert_exporter": "python",
   "pygments_lexer": "ipython3",
   "version": "3.8.8"
  }
 },
 "nbformat": 4,
 "nbformat_minor": 5
}
